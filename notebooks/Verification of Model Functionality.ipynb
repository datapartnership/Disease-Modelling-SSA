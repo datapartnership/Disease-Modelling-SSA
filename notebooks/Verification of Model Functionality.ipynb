{
 "cells": [
  {
   "cell_type": "markdown",
   "metadata": {},
   "source": [
    "# Significant aspects of model construction\n",
    "\n",
    "* econ status\n",
    "* ~bubbles~\n",
    "* spatiality\n",
    "* mobility\n",
    "\n",
    "Metrics upon which to assess these:\n",
    "* cases over time\n",
    "* deaths over time\n",
    "* effective R at different points\n",
    "* constraint-specific measures (e.g. cases over time per district in models with districts)"
   ]
  },
  {
   "cell_type": "code",
   "execution_count": 1,
   "metadata": {},
   "outputs": [],
   "source": [
    "import pandas as pd\n",
    "import numpy as np\n",
    "from datetime import datetime, timedelta\n",
    "import matplotlib as mpl\n",
    "import matplotlib.pyplot as plt\n",
    "import os\n",
    "import pylab as plt\n",
    "from os.path import isfile, join\n",
    "from glob import glob\n",
    "import subprocess\n",
    "import re\n",
    "\n",
    "\n",
    "import seaborn as sns\n",
    "sns.set(style=\"darkgrid\")"
   ]
  },
  {
   "cell_type": "code",
   "execution_count": 2,
   "metadata": {},
   "outputs": [],
   "source": [
    "def processModelOutput(filename):\n",
    "    r_data = pd.read_csv(filename, sep='\\t')\n",
    "    r_data['districtId'] = [int(str(x).split('_')[1]) for x in r_data[\"myId\"]]\n",
    "    return {'results': r_data}\n",
    "\n",
    "def findROFInstance():\n",
    "    # total number of individuals infected by the introduction of an infectious person\n",
    "    return beta * n\n",
    "\n",
    "def WorldBankMASONmodel(seed, paramfile, beta):\n",
    "    \n",
    "    dataDir = \"/home/wb488473/Disease-Modelling-SSA/data/\"\n",
    "    numDays = 30 * 6\n",
    "    \n",
    "    exportFilename = \"exportDailyMetrics_\" + seed + \"_\" + beta + \".txt\"\n",
    "    exportInfectionsFilename = \"exportInfections_\" + seed + \"_\" + beta + \".txt\"\n",
    "    \n",
    "    subprocess.call(['java', '-Xms20G', '-jar', '../java/WorldBankCovid19/libs/WB_covid19ABM.jar', str(numDays), \n",
    "                     dataDir, str(beta), seed, exportFilename, paramfile, exportInfectionsFilename])\n",
    "    \n",
    "    # Sophie upped the -Xms to 20G from 6GB\n",
    "    return processModelOutput(exportFilename)"
   ]
  },
  {
   "cell_type": "code",
   "execution_count": 11,
   "metadata": {},
   "outputs": [
    {
     "data": {
      "text/plain": [
       "'/home/wb488473/Disease-Modelling-SSA/notebooks'"
      ]
     },
     "execution_count": 11,
     "metadata": {},
     "output_type": "execute_result"
    }
   ],
   "source": [
    "pwd"
   ]
  },
  {
   "cell_type": "markdown",
   "metadata": {},
   "source": [
    "## Undifferentiated base case\n",
    "\n",
    "Individuals are created without distinct statuses and their interaction is perfect mixing with the entire community. There is a single district in which each agent is initialised and movement between districts (being meaningless) is zeroed out. Thus, status, social groups, and space are all excluded from this scenario.\n",
    "\n",
    "The data directory associated with this case is inunder the directory **data/verification/** and the specific set of parameters is as given in the file **data/verification/params_default1Dist.txt**. In particular:\n",
    "\n",
    "* the census file has all economic statuses set to the value \"Default\" and all locations for home and work set to an imaginary \"District 1\"\n",
    "* the daily transitions files are both set to 100% chance of moving from District 1 to District 1.\n",
    "* mobility rates do not decrease after a lockdown...\n",
    "* the lockdown file is empty of scheduled lockdowns, however, for belt-and-bracers insurance!\n",
    "\n",
    "The infection parameters are the defaults as seen in the config/covasim_infect_transitions.txt\n",
    "\n",
    "The data to vary are therefore the following:\n",
    "* **numWeeklyInteractionsByStatus_default.txt**: a record of how many interactions agents with the \"Default\" status should have per week\n",
    "* **lineList_5Perc_singleDist.txt**: the infections to seed in the single district.\n",
    "\n",
    "An exploration of these is given below."
   ]
  },
  {
   "cell_type": "markdown",
   "metadata": {},
   "source": [
    "* initialise with 20 cases\n",
    "* comparison: .03 and .3 betas\n",
    "* population sizes: 10% versus this 5%"
   ]
  },
  {
   "cell_type": "markdown",
   "metadata": {},
   "source": [
    "Running the scenarios.\n",
    "\n",
    "(WANT MORE SCENARIOS?? Just add more hateful loops! Or change betas to pop size, etc! Add new param files! Go hog wild!!!)"
   ]
  },
  {
   "cell_type": "code",
   "execution_count": 13,
   "metadata": {},
   "outputs": [
    {
     "ename": "TypeError",
     "evalue": "can only concatenate str (not \"float\") to str",
     "output_type": "error",
     "traceback": [
      "\u001b[0;31m---------------------------------------------------------------------------\u001b[0m",
      "\u001b[0;31mTypeError\u001b[0m                                 Traceback (most recent call last)",
      "\u001b[0;32m/tmp/ipykernel_31556/3996964301.py\u001b[0m in \u001b[0;36m<module>\u001b[0;34m\u001b[0m\n\u001b[1;32m      5\u001b[0m     \u001b[0;32mfor\u001b[0m \u001b[0mmyBeta\u001b[0m \u001b[0;32min\u001b[0m \u001b[0mbetasPerScenario\u001b[0m\u001b[0;34m:\u001b[0m\u001b[0;34m\u001b[0m\u001b[0;34m\u001b[0m\u001b[0m\n\u001b[1;32m      6\u001b[0m         \u001b[0;32mfor\u001b[0m \u001b[0mi\u001b[0m \u001b[0;32min\u001b[0m \u001b[0mrange\u001b[0m\u001b[0;34m(\u001b[0m\u001b[0;36m10\u001b[0m\u001b[0;34m)\u001b[0m\u001b[0;34m:\u001b[0m\u001b[0;34m\u001b[0m\u001b[0;34m\u001b[0m\u001b[0m\n\u001b[0;32m----> 7\u001b[0;31m             \u001b[0mWorldBankMASONmodel\u001b[0m\u001b[0;34m(\u001b[0m\u001b[0;34m\"sweep_default1Dist_betaComparison_\"\u001b[0m\u001b[0;34m,\u001b[0m \u001b[0mparamsFile\u001b[0m\u001b[0;34m,\u001b[0m \u001b[0mmyBeta\u001b[0m\u001b[0;34m)\u001b[0m\u001b[0;34m\u001b[0m\u001b[0;34m\u001b[0m\u001b[0m\n\u001b[0m",
      "\u001b[0;32m/tmp/ipykernel_31556/4114895719.py\u001b[0m in \u001b[0;36mWorldBankMASONmodel\u001b[0;34m(seed, paramfile, beta)\u001b[0m\n\u001b[1;32m     13\u001b[0m     \u001b[0mnumDays\u001b[0m \u001b[0;34m=\u001b[0m \u001b[0;36m30\u001b[0m \u001b[0;34m*\u001b[0m \u001b[0;36m6\u001b[0m\u001b[0;34m\u001b[0m\u001b[0;34m\u001b[0m\u001b[0m\n\u001b[1;32m     14\u001b[0m \u001b[0;34m\u001b[0m\u001b[0m\n\u001b[0;32m---> 15\u001b[0;31m     \u001b[0mexportFilename\u001b[0m \u001b[0;34m=\u001b[0m \u001b[0;34m\"exportDailyMetrics_\"\u001b[0m \u001b[0;34m+\u001b[0m \u001b[0mseed\u001b[0m \u001b[0;34m+\u001b[0m \u001b[0;34m\"_\"\u001b[0m \u001b[0;34m+\u001b[0m \u001b[0mbeta\u001b[0m \u001b[0;34m+\u001b[0m \u001b[0;34m\".txt\"\u001b[0m\u001b[0;34m\u001b[0m\u001b[0;34m\u001b[0m\u001b[0m\n\u001b[0m\u001b[1;32m     16\u001b[0m     \u001b[0mexportInfectionsFilename\u001b[0m \u001b[0;34m=\u001b[0m \u001b[0;34m\"exportInfections_\"\u001b[0m \u001b[0;34m+\u001b[0m \u001b[0mseed\u001b[0m \u001b[0;34m+\u001b[0m \u001b[0;34m\"_\"\u001b[0m \u001b[0;34m+\u001b[0m \u001b[0mbeta\u001b[0m \u001b[0;34m+\u001b[0m \u001b[0;34m\".txt\"\u001b[0m\u001b[0;34m\u001b[0m\u001b[0;34m\u001b[0m\u001b[0m\n\u001b[1;32m     17\u001b[0m \u001b[0;34m\u001b[0m\u001b[0m\n",
      "\u001b[0;31mTypeError\u001b[0m: can only concatenate str (not \"float\") to str"
     ]
    }
   ],
   "source": [
    "paramsPerScenario = [\"../data/verification/params_default1Dist\"]   \n",
    "betasPerScenario = [0.03, 0.3]\n",
    "\n",
    "for paramsFile in paramsPerScenario:\n",
    "    for myBeta in betasPerScenario:\n",
    "        for i in range(10):\n",
    "            WorldBankMASONmodel(\"sweep_default1Dist_betaComparison_\", i, paramsFile, myBeta)"
   ]
  },
  {
   "cell_type": "markdown",
   "metadata": {},
   "source": [
    "#### Cases over time\n"
   ]
  },
  {
   "cell_type": "code",
   "execution_count": 14,
   "metadata": {
    "scrolled": true
   },
   "outputs": [],
   "source": [
    "def plotMetric(files, prefix, suffix, metrics = [], symbol = \"-\", alpha=1, weighting = 1):\n",
    "    myAvgLine = []\n",
    "    index = 0\n",
    "    template = \"^\" + prefix + \".*\" + suffix + \"$\"\n",
    "\n",
    "    for f in files:\n",
    "\n",
    "        if(re.search(template, f) != None): # f.startswith(prefix) and \n",
    "            r_data = pd.read_csv(path + f, sep='\\t')\n",
    "            totcases = []\n",
    "            for metric in metrics:\n",
    "                if len(totcases) == 0:\n",
    "                    totcases = r_data[metric]\n",
    "                else:        \n",
    "                    totcases = totcases + r_data[metric]\n",
    "            #totcases = r_data[metric]\n",
    "            \n",
    "            if len(myAvgLine) == 0:\n",
    "                myAvgLine = totcases\n",
    "            else:\n",
    "                myAvgLine += totcases\n",
    "            \n",
    "            # plot it\n",
    "            plt.plot(r_data[\"time\"][1:], weighting * totcases[1:], symbol, alpha=alpha)\n",
    "            index += 1\n",
    "    return {\"myLine\": weighting * myAvgLine/index, \"myTime\": r_data[\"time\"]}"
   ]
  },
  {
   "cell_type": "markdown",
   "metadata": {},
   "source": [
    "## HERE BE CODE FORMERLY USED FOR BUBBLES - CANNABALISE ACCORDINGLY"
   ]
  },
  {
   "cell_type": "code",
   "execution_count": 16,
   "metadata": {},
   "outputs": [
    {
     "ename": "TypeError",
     "evalue": "unsupported operand type(s) for /: 'list' and 'int'",
     "output_type": "error",
     "traceback": [
      "\u001b[0;31m---------------------------------------------------------------------------\u001b[0m",
      "\u001b[0;31mTypeError\u001b[0m                                 Traceback (most recent call last)",
      "\u001b[0;32m/tmp/ipykernel_31556/1038245765.py\u001b[0m in \u001b[0;36m<module>\u001b[0;34m\u001b[0m\n\u001b[1;32m      5\u001b[0m \u001b[0mprefix2\u001b[0m \u001b[0;34m=\u001b[0m \u001b[0;34m\"exportBubbles_20perc\"\u001b[0m\u001b[0;34m\u001b[0m\u001b[0;34m\u001b[0m\u001b[0m\n\u001b[1;32m      6\u001b[0m \u001b[0;34m\u001b[0m\u001b[0m\n\u001b[0;32m----> 7\u001b[0;31m line1 = plotMetric(files, prefix, \"0.016.txt\", [\"metric_new_cases_sympt\", \"metric_new_cases_asympt\"],\n\u001b[0m\u001b[1;32m      8\u001b[0m                    'r-', 0.15, weighting=4)\n\u001b[1;32m      9\u001b[0m \u001b[0;31m#line2 = plotMetric(files, prefix2, \"0.016.txt\", \"metric_new_cases_sympt\", 'b-', 0.15)\u001b[0m\u001b[0;34m\u001b[0m\u001b[0;34m\u001b[0m\u001b[0;34m\u001b[0m\u001b[0m\n",
      "\u001b[0;32m/tmp/ipykernel_31556/593730168.py\u001b[0m in \u001b[0;36mplotMetric\u001b[0;34m(files, prefix, suffix, metrics, symbol, alpha, weighting)\u001b[0m\n\u001b[1;32m     24\u001b[0m             \u001b[0mplt\u001b[0m\u001b[0;34m.\u001b[0m\u001b[0mplot\u001b[0m\u001b[0;34m(\u001b[0m\u001b[0mr_data\u001b[0m\u001b[0;34m[\u001b[0m\u001b[0;34m\"time\"\u001b[0m\u001b[0;34m]\u001b[0m\u001b[0;34m[\u001b[0m\u001b[0;36m1\u001b[0m\u001b[0;34m:\u001b[0m\u001b[0;34m]\u001b[0m\u001b[0;34m,\u001b[0m \u001b[0mweighting\u001b[0m \u001b[0;34m*\u001b[0m \u001b[0mtotcases\u001b[0m\u001b[0;34m[\u001b[0m\u001b[0;36m1\u001b[0m\u001b[0;34m:\u001b[0m\u001b[0;34m]\u001b[0m\u001b[0;34m,\u001b[0m \u001b[0msymbol\u001b[0m\u001b[0;34m,\u001b[0m \u001b[0malpha\u001b[0m\u001b[0;34m=\u001b[0m\u001b[0malpha\u001b[0m\u001b[0;34m)\u001b[0m\u001b[0;34m\u001b[0m\u001b[0;34m\u001b[0m\u001b[0m\n\u001b[1;32m     25\u001b[0m             \u001b[0mindex\u001b[0m \u001b[0;34m+=\u001b[0m \u001b[0;36m1\u001b[0m\u001b[0;34m\u001b[0m\u001b[0;34m\u001b[0m\u001b[0m\n\u001b[0;32m---> 26\u001b[0;31m     \u001b[0;32mreturn\u001b[0m \u001b[0;34m{\u001b[0m\u001b[0;34m\"myLine\"\u001b[0m\u001b[0;34m:\u001b[0m \u001b[0mweighting\u001b[0m \u001b[0;34m*\u001b[0m \u001b[0mmyAvgLine\u001b[0m\u001b[0;34m/\u001b[0m\u001b[0mindex\u001b[0m\u001b[0;34m,\u001b[0m \u001b[0;34m\"myTime\"\u001b[0m\u001b[0;34m:\u001b[0m \u001b[0mr_data\u001b[0m\u001b[0;34m[\u001b[0m\u001b[0;34m\"time\"\u001b[0m\u001b[0;34m]\u001b[0m\u001b[0;34m}\u001b[0m\u001b[0;34m\u001b[0m\u001b[0;34m\u001b[0m\u001b[0m\n\u001b[0m",
      "\u001b[0;31mTypeError\u001b[0m: unsupported operand type(s) for /: 'list' and 'int'"
     ]
    }
   ],
   "source": [
    "path = \"/home/wb488473/Disease-Modelling-SSA/data/verification/output\"\n",
    "files = os.listdir(path)\n",
    "\n",
    "prefix = \"exportBubblesOf30_\"\n",
    "prefix2 = \"exportBubbles_20perc\"\n",
    "\n",
    "line1 = plotMetric(files, prefix, \"0.016.txt\", [\"metric_new_cases_sympt\", \"metric_new_cases_asympt\"],\n",
    "                   'r-', 0.15, weighting=4)\n",
    "#line2 = plotMetric(files, prefix2, \"0.016.txt\", \"metric_new_cases_sympt\", 'b-', 0.15)\n",
    "#line4 = plotMetric(files, prefix, \"0.05.txt\", \"metric_new_cases_sympt\", 'y-', 0.15)\n",
    "#line3 = plotMetric(files, prefix, \"0.1.txt\", \"metric_new_cases_sympt\", 'g-', 0.15)\n",
    "#line5 = plotMetric(files, prefix2, \"0.1.txt\", \"metric_new_cases_sympt\", 'g', 0.15)\n",
    "#line6 = plotMetric(files, prefix2, \"0.05.txt\", \"metric_new_cases_sympt\", 'y', 0.15)\n",
    "\n",
    "plt.plot(line1[\"myTime\"][1:], 4* line1['myLine'][1:], 'r', label=\"Bubbles - 5% - .016 Beta\")\n",
    "#plt.plot(line2[\"myTime\"][1:], line2['myLine'][1:], 'b', label=\"Bubbles - 20% - .016 Beta\")\n",
    "#plt.plot(line2[\"myTime\"][1:], line2['myLine'][1:], 'b', label=\"Perfect Mixing - .03 Beta\")\n",
    "#plt.plot(line4[\"myTime\"][1:], line4['myLine'][1:], 'y', label=\"Perfect Mixing - .05 Beta\")\n",
    "#plt.plot(line3[\"myTime\"][1:], line3['myLine'][1:], 'g', label=\"Perfect Mixing - .10 Beta\")\n",
    "plt.legend()\n",
    "\n",
    "#plt.savefig(path + \"comparisonOfCases.png\", dpi=300)"
   ]
  },
  {
   "cell_type": "code",
   "execution_count": 84,
   "metadata": {},
   "outputs": [
    {
     "data": {
      "image/png": "[encoded data removed]",
      "text/plain": [
       "<Figure size 432x288 with 1 Axes>"
      ]
     },
     "metadata": {},
     "output_type": "display_data"
    }
   ],
   "source": [
    "path = \"/home/wb488473/Disease-Modelling-SSA/data/verification/output\"\n",
    "files = os.listdir(path)\n",
    "\n",
    "prefix = \"exportBubblesOf30_\"\n",
    "prefix2 = \"exportPerfect\"\n",
    "\n",
    "line1 = plotMetric(files, prefix, \"0.1.txt\", \"metric_new_cases_sympt\", 'r-', 0.15)\n",
    "line2 = plotMetric(files, prefix2, \"0.1.txt\", \"metric_new_cases_sympt\", 'b-', 0.15)\n",
    "#line4 = plotMetric(files, prefix, \"0.05.txt\", \"metric_new_cases_sympt\", 'y-', 0.15)\n",
    "#line3 = plotMetric(files, prefix, \"0.1.txt\", \"metric_new_cases_sympt\", 'g-', 0.15)\n",
    "#line5 = plotMetric(files, prefix2, \"0.1.txt\", \"metric_new_cases_sympt\", 'g', 0.15)\n",
    "#line6 = plotMetric(files, prefix2, \"0.05.txt\", \"metric_new_cases_sympt\", 'y', 0.15)\n",
    "\n",
    "plt.plot(line1[\"myTime\"][1:], line1['myLine'][1:], 'r', label=\"Bubbles - 5% - .1 Beta\")\n",
    "plt.plot(line2[\"myTime\"][1:], line2['myLine'][1:], 'b', label=\"Perfect Mixing - 5% - .1 Beta\")\n",
    "#plt.plot(line2[\"myTime\"][1:], line2['myLine'][1:], 'b', label=\"Perfect Mixing - .03 Beta\")\n",
    "#plt.plot(line4[\"myTime\"][1:], line4['myLine'][1:], 'y', label=\"Perfect Mixing - .05 Beta\")\n",
    "#plt.plot(line3[\"myTime\"][1:], line3['myLine'][1:], 'g', label=\"Perfect Mixing - .10 Beta\")\n",
    "plt.legend()\n",
    "\n",
    "plt.savefig(path + \"bubblesVersusNo_5_1.png\", dpi=300)"
   ]
  },
  {
   "cell_type": "code",
   "execution_count": 30,
   "metadata": {},
   "outputs": [
    {
     "data": {
      "text/plain": [
       "<Figure size 432x288 with 0 Axes>"
      ]
     },
     "metadata": {},
     "output_type": "display_data"
    }
   ],
   "source": [
    "#line3 = plotMetric(files, \"exportPerfect\", \"0.3.txt\", \"metric_new_cases_sympt\", 'b-', 0.15)\n",
    "#plt.plot(line3[\"myTime\"][1:], line3['myLine'][1:], 'r', label=\"Perfect Mixing - .30 Beta\")\n"
   ]
  },
  {
   "cell_type": "markdown",
   "metadata": {},
   "source": [
    "Direct comparison of spikiness in bubble version"
   ]
  },
  {
   "cell_type": "code",
   "execution_count": 94,
   "metadata": {},
   "outputs": [
    {
     "data": {
      "image/png": "[encoded data removed]",
      "text/plain": [
       "<Figure size 432x288 with 1 Axes>"
      ]
     },
     "metadata": {},
     "output_type": "display_data"
    }
   ],
   "source": [
    "path = \"/Users/swise/workspace/worldbank/Disease-Modelling-SSA/data/verification/output/\"\n",
    "files = os.listdir(path)\n",
    "\n",
    "prefix = \"exportBubblesOf30_0_\"\n",
    "prefix2 = \"testing_30bubbles_weekdayWeekendSame_\"\n",
    "\n",
    "line1 = plotMetric(files, prefix, \"0.1.txt\", \"metric_new_cases_sympt\", 'r-', 0.15)\n",
    "line2 = plotMetric(files, prefix2, \"0.1.txt\", \"metric_new_cases_sympt\", 'b-', 0.15)\n",
    "#line4 = plotMetric(files, prefix, \"0.05.txt\", \"metric_new_cases_sympt\", 'y-', 0.15)\n",
    "#line3 = plotMetric(files, prefix, \"0.1.txt\", \"metric_new_cases_sympt\", 'g-', 0.15)\n",
    "#line5 = plotMetric(files, prefix2, \"0.1.txt\", \"metric_new_cases_sympt\", 'g', 0.15)\n",
    "#line6 = plotMetric(files, prefix2, \"0.05.txt\", \"metric_new_cases_sympt\", 'y', 0.15)\n",
    "\n",
    "plt.plot(line1[\"myTime\"][1:], line1['myLine'][1:], 'r', label=\"1hr WD, 3hr WE\")\n",
    "plt.plot(line2[\"myTime\"][1:], line2['myLine'][1:], 'b', label=\"2hr both\")\n",
    "#plt.plot(line2[\"myTime\"][1:], line2['myLine'][1:], 'b', label=\"Perfect Mixing - .03 Beta\")\n",
    "#plt.plot(line4[\"myTime\"][1:], line4['myLine'][1:], 'y', label=\"Perfect Mixing - .05 Beta\")\n",
    "#plt.plot(line3[\"myTime\"][1:], line3['myLine'][1:], 'g', label=\"Perfect Mixing - .10 Beta\")\n",
    "plt.title(\"Bubbles - 5% - .1 Beta\")\n",
    "plt.legend()\n",
    "\n",
    "plt.savefig(path + \"leisureTimeComparison.png\", dpi=300)"
   ]
  },
  {
   "cell_type": "markdown",
   "metadata": {},
   "source": [
    "Calculating the r_eff"
   ]
  },
  {
   "cell_type": "code",
   "execution_count": 98,
   "metadata": {},
   "outputs": [],
   "source": [
    "path = \"/Users/swise/workspace/worldbank/Disease-Modelling-SSA/notebooks/\"\n",
    "filename = \"infections_0.016_4_180_4.txt\"\n",
    "r_data = pd.read_csv(path + filename, sep='\\t')\n"
   ]
  },
  {
   "cell_type": "code",
   "execution_count": 174,
   "metadata": {
    "scrolled": true
   },
   "outputs": [
    {
     "name": "stderr",
     "output_type": "stream",
     "text": [
      "<ipython-input-174-214b27df3a83>:2: SettingWithCopyWarning: \n",
      "A value is trying to be set on a copy of a slice from a DataFrame.\n",
      "Try using .loc[row_indexer,col_indexer] = value instead\n",
      "\n",
      "See the caveats in the documentation: https://pandas.pydata.org/pandas-docs/stable/user_guide/indexing.html#returning-a-view-versus-a-copy\n",
      "  infections[\"HostNew\"] = infections[\"Host\"].astype(float).astype(str)\n",
      "<ipython-input-174-214b27df3a83>:3: SettingWithCopyWarning: \n",
      "A value is trying to be set on a copy of a slice from a DataFrame.\n",
      "Try using .loc[row_indexer,col_indexer] = value instead\n",
      "\n",
      "See the caveats in the documentation: https://pandas.pydata.org/pandas-docs/stable/user_guide/indexing.html#returning-a-view-versus-a-copy\n",
      "  infections[\"SourceNew\"] = infections[\"Source\"].astype(str)\n"
     ]
    },
    {
     "data": {
      "text/html": [
       "<div>\n",
       "<style scoped>\n",
       "    .dataframe tbody tr th:only-of-type {\n",
       "        vertical-align: middle;\n",
       "    }\n",
       "\n",
       "    .dataframe tbody tr th {\n",
       "        vertical-align: top;\n",
       "    }\n",
       "\n",
       "    .dataframe thead th {\n",
       "        text-align: right;\n",
       "    }\n",
       "</style>\n",
       "<table border=\"1\" class=\"dataframe\">\n",
       "  <thead>\n",
       "    <tr style=\"text-align: right;\">\n",
       "      <th></th>\n",
       "      <th>Host</th>\n",
       "      <th>Source</th>\n",
       "      <th>Time</th>\n",
       "      <th>LocOfTransmission</th>\n",
       "      <th>ContagiousAt</th>\n",
       "      <th>SymptomaticAt</th>\n",
       "      <th>SevereAt</th>\n",
       "      <th>CriticalAt</th>\n",
       "      <th>RecoveredAt</th>\n",
       "      <th>DiedAt</th>\n",
       "      <th>HostNew</th>\n",
       "      <th>SourceNew</th>\n",
       "    </tr>\n",
       "  </thead>\n",
       "  <tbody>\n",
       "    <tr>\n",
       "      <th>0</th>\n",
       "      <td>2416360</td>\n",
       "      <td>NaN</td>\n",
       "      <td>-1.000000</td>\n",
       "      <td>d_1</td>\n",
       "      <td>0.0</td>\n",
       "      <td>1.7976931348623157E308</td>\n",
       "      <td>1.7976931348623157E308</td>\n",
       "      <td>1.7976931348623157E308</td>\n",
       "      <td>51.0</td>\n",
       "      <td>1.7976931348623157E308</td>\n",
       "      <td>2416360.0</td>\n",
       "      <td>nan</td>\n",
       "    </tr>\n",
       "    <tr>\n",
       "      <th>1</th>\n",
       "      <td>231512</td>\n",
       "      <td>NaN</td>\n",
       "      <td>-1.000000</td>\n",
       "      <td>d_1</td>\n",
       "      <td>0.0</td>\n",
       "      <td>7.896895013747449</td>\n",
       "      <td>1.7976931348623157E308</td>\n",
       "      <td>1.7976931348623157E308</td>\n",
       "      <td>58.0</td>\n",
       "      <td>1.7976931348623157E308</td>\n",
       "      <td>231512.0</td>\n",
       "      <td>nan</td>\n",
       "    </tr>\n",
       "    <tr>\n",
       "      <th>2</th>\n",
       "      <td>2626685</td>\n",
       "      <td>NaN</td>\n",
       "      <td>-1.000000</td>\n",
       "      <td>d_1</td>\n",
       "      <td>0.0</td>\n",
       "      <td>1.7976931348623157E308</td>\n",
       "      <td>1.7976931348623157E308</td>\n",
       "      <td>1.7976931348623157E308</td>\n",
       "      <td>53.0</td>\n",
       "      <td>1.7976931348623157E308</td>\n",
       "      <td>2626685.0</td>\n",
       "      <td>nan</td>\n",
       "    </tr>\n",
       "    <tr>\n",
       "      <th>3</th>\n",
       "      <td>724750</td>\n",
       "      <td>NaN</td>\n",
       "      <td>-1.000000</td>\n",
       "      <td>d_1</td>\n",
       "      <td>0.0</td>\n",
       "      <td>9.213338578922917</td>\n",
       "      <td>1.7976931348623157E308</td>\n",
       "      <td>1.7976931348623157E308</td>\n",
       "      <td>64.0</td>\n",
       "      <td>1.7976931348623157E308</td>\n",
       "      <td>724750.0</td>\n",
       "      <td>nan</td>\n",
       "    </tr>\n",
       "    <tr>\n",
       "      <th>4</th>\n",
       "      <td>896121</td>\n",
       "      <td>NaN</td>\n",
       "      <td>-1.000000</td>\n",
       "      <td>d_1</td>\n",
       "      <td>0.0</td>\n",
       "      <td>8.155141288761428</td>\n",
       "      <td>1.7976931348623157E308</td>\n",
       "      <td>1.7976931348623157E308</td>\n",
       "      <td>61.0</td>\n",
       "      <td>1.7976931348623157E308</td>\n",
       "      <td>896121.0</td>\n",
       "      <td>nan</td>\n",
       "    </tr>\n",
       "    <tr>\n",
       "      <th>...</th>\n",
       "      <td>...</td>\n",
       "      <td>...</td>\n",
       "      <td>...</td>\n",
       "      <td>...</td>\n",
       "      <td>...</td>\n",
       "      <td>...</td>\n",
       "      <td>...</td>\n",
       "      <td>...</td>\n",
       "      <td>...</td>\n",
       "      <td>...</td>\n",
       "      <td>...</td>\n",
       "      <td>...</td>\n",
       "    </tr>\n",
       "    <tr>\n",
       "      <th>279667</th>\n",
       "      <td>2160117</td>\n",
       "      <td>2522447.0</td>\n",
       "      <td>1079.984532</td>\n",
       "      <td>d_1</td>\n",
       "      <td>1108.5382554511327</td>\n",
       "      <td>1.7976931348623157E308</td>\n",
       "      <td>1.7976931348623157E308</td>\n",
       "      <td>1.7976931348623157E308</td>\n",
       "      <td>1.7976931348623157E308</td>\n",
       "      <td>1.7976931348623157E308</td>\n",
       "      <td>2160117.0</td>\n",
       "      <td>2522447.0</td>\n",
       "    </tr>\n",
       "    <tr>\n",
       "      <th>279668</th>\n",
       "      <td>115827</td>\n",
       "      <td>2703595.0</td>\n",
       "      <td>1079.984627</td>\n",
       "      <td>d_1</td>\n",
       "      <td>1107.4207479470317</td>\n",
       "      <td>1.7976931348623157E308</td>\n",
       "      <td>1.7976931348623157E308</td>\n",
       "      <td>1.7976931348623157E308</td>\n",
       "      <td>1.7976931348623157E308</td>\n",
       "      <td>1.7976931348623157E308</td>\n",
       "      <td>115827.0</td>\n",
       "      <td>2703595.0</td>\n",
       "    </tr>\n",
       "    <tr>\n",
       "      <th>279670</th>\n",
       "      <td>1547863</td>\n",
       "      <td>2212301.0</td>\n",
       "      <td>1079.986925</td>\n",
       "      <td>d_1</td>\n",
       "      <td>1108.4368165252258</td>\n",
       "      <td>1.7976931348623157E308</td>\n",
       "      <td>1.7976931348623157E308</td>\n",
       "      <td>1.7976931348623157E308</td>\n",
       "      <td>1.7976931348623157E308</td>\n",
       "      <td>1.7976931348623157E308</td>\n",
       "      <td>1547863.0</td>\n",
       "      <td>2212301.0</td>\n",
       "    </tr>\n",
       "    <tr>\n",
       "      <th>279671</th>\n",
       "      <td>2513477</td>\n",
       "      <td>1153986.0</td>\n",
       "      <td>1079.996850</td>\n",
       "      <td>d_1</td>\n",
       "      <td>1107.5966231013047</td>\n",
       "      <td>1.7976931348623157E308</td>\n",
       "      <td>1.7976931348623157E308</td>\n",
       "      <td>1.7976931348623157E308</td>\n",
       "      <td>1.7976931348623157E308</td>\n",
       "      <td>1.7976931348623157E308</td>\n",
       "      <td>2513477.0</td>\n",
       "      <td>1153986.0</td>\n",
       "    </tr>\n",
       "    <tr>\n",
       "      <th>279672</th>\n",
       "      <td>878983</td>\n",
       "      <td>2947080.0</td>\n",
       "      <td>1079.998527</td>\n",
       "      <td>d_1</td>\n",
       "      <td>1108.2074691629882</td>\n",
       "      <td>1.7976931348623157E308</td>\n",
       "      <td>1.7976931348623157E308</td>\n",
       "      <td>1.7976931348623157E308</td>\n",
       "      <td>1.7976931348623157E308</td>\n",
       "      <td>1.7976931348623157E308</td>\n",
       "      <td>878983.0</td>\n",
       "      <td>2947080.0</td>\n",
       "    </tr>\n",
       "  </tbody>\n",
       "</table>\n",
       "<p>213928 rows × 12 columns</p>\n",
       "</div>"
      ],
      "text/plain": [
       "           Host     Source         Time LocOfTransmission        ContagiousAt  \\\n",
       "0       2416360        NaN    -1.000000               d_1                 0.0   \n",
       "1        231512        NaN    -1.000000               d_1                 0.0   \n",
       "2       2626685        NaN    -1.000000               d_1                 0.0   \n",
       "3        724750        NaN    -1.000000               d_1                 0.0   \n",
       "4        896121        NaN    -1.000000               d_1                 0.0   \n",
       "...         ...        ...          ...               ...                 ...   \n",
       "279667  2160117  2522447.0  1079.984532               d_1  1108.5382554511327   \n",
       "279668   115827  2703595.0  1079.984627               d_1  1107.4207479470317   \n",
       "279670  1547863  2212301.0  1079.986925               d_1  1108.4368165252258   \n",
       "279671  2513477  1153986.0  1079.996850               d_1  1107.5966231013047   \n",
       "279672   878983  2947080.0  1079.998527               d_1  1108.2074691629882   \n",
       "\n",
       "                 SymptomaticAt                SevereAt  \\\n",
       "0       1.7976931348623157E308  1.7976931348623157E308   \n",
       "1            7.896895013747449  1.7976931348623157E308   \n",
       "2       1.7976931348623157E308  1.7976931348623157E308   \n",
       "3            9.213338578922917  1.7976931348623157E308   \n",
       "4            8.155141288761428  1.7976931348623157E308   \n",
       "...                        ...                     ...   \n",
       "279667  1.7976931348623157E308  1.7976931348623157E308   \n",
       "279668  1.7976931348623157E308  1.7976931348623157E308   \n",
       "279670  1.7976931348623157E308  1.7976931348623157E308   \n",
       "279671  1.7976931348623157E308  1.7976931348623157E308   \n",
       "279672  1.7976931348623157E308  1.7976931348623157E308   \n",
       "\n",
       "                    CriticalAt             RecoveredAt  \\\n",
       "0       1.7976931348623157E308                    51.0   \n",
       "1       1.7976931348623157E308                    58.0   \n",
       "2       1.7976931348623157E308                    53.0   \n",
       "3       1.7976931348623157E308                    64.0   \n",
       "4       1.7976931348623157E308                    61.0   \n",
       "...                        ...                     ...   \n",
       "279667  1.7976931348623157E308  1.7976931348623157E308   \n",
       "279668  1.7976931348623157E308  1.7976931348623157E308   \n",
       "279670  1.7976931348623157E308  1.7976931348623157E308   \n",
       "279671  1.7976931348623157E308  1.7976931348623157E308   \n",
       "279672  1.7976931348623157E308  1.7976931348623157E308   \n",
       "\n",
       "                        DiedAt    HostNew  SourceNew  \n",
       "0       1.7976931348623157E308  2416360.0        nan  \n",
       "1       1.7976931348623157E308   231512.0        nan  \n",
       "2       1.7976931348623157E308  2626685.0        nan  \n",
       "3       1.7976931348623157E308   724750.0        nan  \n",
       "4       1.7976931348623157E308   896121.0        nan  \n",
       "...                        ...        ...        ...  \n",
       "279667  1.7976931348623157E308  2160117.0  2522447.0  \n",
       "279668  1.7976931348623157E308   115827.0  2703595.0  \n",
       "279670  1.7976931348623157E308  1547863.0  2212301.0  \n",
       "279671  1.7976931348623157E308  2513477.0  1153986.0  \n",
       "279672  1.7976931348623157E308   878983.0  2947080.0  \n",
       "\n",
       "[213928 rows x 12 columns]"
      ]
     },
     "execution_count": 174,
     "metadata": {},
     "output_type": "execute_result"
    }
   ],
   "source": [
    "infections = r_data[r_data[\"ContagiousAt\"] != '1.7976931348623157E308']\n",
    "infections[\"HostNew\"] = infections[\"Host\"].astype(float).astype(str)\n",
    "infections[\"SourceNew\"] = infections[\"Source\"].astype(str)\n",
    "infections\n"
   ]
  },
  {
   "cell_type": "code",
   "execution_count": 177,
   "metadata": {},
   "outputs": [],
   "source": [
    "allSources = infections[\"SourceNew\"]"
   ]
  },
  {
   "cell_type": "code",
   "execution_count": 181,
   "metadata": {},
   "outputs": [
    {
     "ename": "ValueError",
     "evalue": "The truth value of a Series is ambiguous. Use a.empty, a.bool(), a.item(), a.any() or a.all().",
     "output_type": "error",
     "traceback": [
      "\u001b[0;31m---------------------------------------------------------------------------\u001b[0m",
      "\u001b[0;31mValueError\u001b[0m                                Traceback (most recent call last)",
      "\u001b[0;32m<ipython-input-181-41fc25bf7c93>\u001b[0m in \u001b[0;36m<module>\u001b[0;34m\u001b[0m\n\u001b[0;32m----> 1\u001b[0;31m \u001b[0minfections\u001b[0m\u001b[0;34m[\u001b[0m\u001b[0;34m\"finishedAt\"\u001b[0m\u001b[0;34m]\u001b[0m \u001b[0;34m=\u001b[0m \u001b[0mmin\u001b[0m\u001b[0;34m(\u001b[0m\u001b[0minfections\u001b[0m\u001b[0;34m[\u001b[0m\u001b[0;34m\"DiedAt\"\u001b[0m\u001b[0;34m]\u001b[0m\u001b[0;34m,\u001b[0m \u001b[0minfections\u001b[0m\u001b[0;34m[\u001b[0m\u001b[0;34m\"RecoveredAt\"\u001b[0m\u001b[0;34m]\u001b[0m\u001b[0;34m)\u001b[0m\u001b[0;34m\u001b[0m\u001b[0;34m\u001b[0m\u001b[0m\n\u001b[0m",
      "\u001b[0;32m~/opt/anaconda3/lib/python3.8/site-packages/pandas/core/generic.py\u001b[0m in \u001b[0;36m__nonzero__\u001b[0;34m(self)\u001b[0m\n\u001b[1;32m   1476\u001b[0m \u001b[0;34m\u001b[0m\u001b[0m\n\u001b[1;32m   1477\u001b[0m     \u001b[0;32mdef\u001b[0m \u001b[0m__nonzero__\u001b[0m\u001b[0;34m(\u001b[0m\u001b[0mself\u001b[0m\u001b[0;34m)\u001b[0m\u001b[0;34m:\u001b[0m\u001b[0;34m\u001b[0m\u001b[0;34m\u001b[0m\u001b[0m\n\u001b[0;32m-> 1478\u001b[0;31m         raise ValueError(\n\u001b[0m\u001b[1;32m   1479\u001b[0m             \u001b[0;34mf\"The truth value of a {type(self).__name__} is ambiguous. \"\u001b[0m\u001b[0;34m\u001b[0m\u001b[0;34m\u001b[0m\u001b[0m\n\u001b[1;32m   1480\u001b[0m             \u001b[0;34m\"Use a.empty, a.bool(), a.item(), a.any() or a.all().\"\u001b[0m\u001b[0;34m\u001b[0m\u001b[0;34m\u001b[0m\u001b[0m\n",
      "\u001b[0;31mValueError\u001b[0m: The truth value of a Series is ambiguous. Use a.empty, a.bool(), a.item(), a.any() or a.all()."
     ]
    }
   ],
   "source": [
    "infections[\"finishedAt\"] = min(infections[\"DiedAt\"], infections[\"RecoveredAt\"])"
   ]
  },
  {
   "cell_type": "code",
   "execution_count": 179,
   "metadata": {},
   "outputs": [
    {
     "data": {
      "text/plain": [
       "nan          80\n",
       "1534488.0    41\n",
       "334943.0     41\n",
       "1253740.0    40\n",
       "1616937.0    39\n",
       "             ..\n",
       "1161568.0     1\n",
       "2594659.0     1\n",
       "1335321.0     1\n",
       "2119023.0     1\n",
       "913977.0      1\n",
       "Name: SourceNew, Length: 112210, dtype: int64"
      ]
     },
     "execution_count": 179,
     "metadata": {},
     "output_type": "execute_result"
    }
   ],
   "source": [
    "allSources.value_counts()"
   ]
  },
  {
   "cell_type": "code",
   "execution_count": 212,
   "metadata": {},
   "outputs": [
    {
     "data": {
      "text/plain": [
       "'params_5perc_bubbles_30'"
      ]
     },
     "execution_count": 212,
     "metadata": {},
     "output_type": "execute_result"
    }
   ],
   "source": [
    "x = \"../data/verification/params_5perc_bubbles_30.txt\"\n",
    "\n",
    "x.split(\".\")[-2].split(\"/\")[-1]"
   ]
  },
  {
   "cell_type": "code",
   "execution_count": null,
   "metadata": {},
   "outputs": [],
   "source": []
  },
  {
   "cell_type": "markdown",
   "metadata": {},
   "source": [
    "## Comparison of population sizes"
   ]
  },
  {
   "cell_type": "code",
   "execution_count": null,
   "metadata": {},
   "outputs": [],
   "source": []
  },
  {
   "cell_type": "markdown",
   "metadata": {},
   "source": [
    "#### Deaths over time"
   ]
  },
  {
   "cell_type": "code",
   "execution_count": null,
   "metadata": {},
   "outputs": [],
   "source": []
  },
  {
   "cell_type": "markdown",
   "metadata": {},
   "source": [
    "#### Measuring R"
   ]
  },
  {
   "cell_type": "markdown",
   "metadata": {},
   "source": [
    "## Introducing one constraint at a time"
   ]
  },
  {
   "cell_type": "markdown",
   "metadata": {},
   "source": [
    "### Social Bubbles"
   ]
  },
  {
   "cell_type": "markdown",
   "metadata": {},
   "source": [
    "### Status"
   ]
  },
  {
   "cell_type": "markdown",
   "metadata": {},
   "source": [
    "### Spatial Partitioning\n",
    "\n",
    "(districts exist)"
   ]
  },
  {
   "cell_type": "markdown",
   "metadata": {},
   "source": [
    "## Combining these constraints\n",
    "\n",
    "* Social bubbles + status\n",
    "* Social bubbles + space\n",
    "* Status + space\n",
    "* All three"
   ]
  },
  {
   "cell_type": "markdown",
   "metadata": {},
   "source": [
    "## Mobility"
   ]
  },
  {
   "cell_type": "markdown",
   "metadata": {},
   "source": [
    "### Weekday/weekend"
   ]
  },
  {
   "cell_type": "markdown",
   "metadata": {},
   "source": [
    "### Interdisctrict"
   ]
  },
  {
   "cell_type": "markdown",
   "metadata": {},
   "source": [
    "## Future work: interventions\n",
    "\n",
    "* lockdowns\n",
    "* someday, hygiene\n",
    "* someday, school closures"
   ]
  },
  {
   "cell_type": "code",
   "execution_count": null,
   "metadata": {},
   "outputs": [],
   "source": []
  },
  {
   "cell_type": "code",
   "execution_count": null,
   "metadata": {},
   "outputs": [],
   "source": []
  },
  {
   "cell_type": "markdown",
   "metadata": {},
   "source": [
    "## Template\n",
    "\n",
    "such description wow"
   ]
  },
  {
   "cell_type": "markdown",
   "metadata": {},
   "source": [
    "#### Cases over time\n"
   ]
  },
  {
   "cell_type": "markdown",
   "metadata": {},
   "source": [
    "#### Deaths over time"
   ]
  },
  {
   "cell_type": "markdown",
   "metadata": {},
   "source": [
    "#### Measuring R"
   ]
  },
  {
   "cell_type": "markdown",
   "metadata": {},
   "source": [
    "#### Constraint-specific?"
   ]
  }
 ],
 "metadata": {
  "kernelspec": {
   "display_name": "Python 3 (ipykernel)",
   "language": "python",
   "name": "python3"
  },
  "language_info": {
   "codemirror_mode": {
    "name": "ipython",
    "version": 3
   },
   "file_extension": ".py",
   "mimetype": "text/x-python",
   "name": "python",
   "nbconvert_exporter": "python",
   "pygments_lexer": "ipython3",
   "version": "3.9.6"
  }
 },
 "nbformat": 4,
 "nbformat_minor": 4
}
