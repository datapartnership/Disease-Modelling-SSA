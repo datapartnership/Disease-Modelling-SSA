{
 "cells": [
  {
   "cell_type": "markdown",
   "id": "612b12a4",
   "metadata": {},
   "source": [
    "Direct comparison of spikiness in bubble version"
   ]
  },
  {
   "cell_type": "code",
   "execution_count": null,
   "id": "85c121d8",
   "metadata": {},
   "outputs": [],
   "source": [
    "path = \"/Users/swise/workspace/worldbank/Disease-Modelling-SSA/data/verification/output/\"\n",
    "files = os.listdir(path)\n",
    "\n",
    "prefix = \"exportBubblesOf30_0_\"\n",
    "prefix2 = \"testing_30bubbles_weekdayWeekendSame_\"\n",
    "\n",
    "line1 = plotMetric(files, prefix, \"0.1.txt\", [\"metric_new_cases_sympt\"], 'r-', 0.15)\n",
    "line2 = plotMetric(files, prefix2, \"0.1.txt\", [\"metric_new_cases_sympt\"], 'b-', 0.15)\n",
    "#line4 = plotMetric(files, prefix, \"0.05.txt\", \"metric_new_cases_sympt\", 'y-', 0.15)\n",
    "#line3 = plotMetric(files, prefix, \"0.1.txt\", \"metric_new_cases_sympt\", 'g-', 0.15)\n",
    "#line5 = plotMetric(files, prefix2, \"0.1.txt\", \"metric_new_cases_sympt\", 'g', 0.15)\n",
    "#line6 = plotMetric(files, prefix2, \"0.05.txt\", \"metric_new_cases_sympt\", 'y', 0.15)\n",
    "\n",
    "plt.plot(line1[\"myTime\"][1:], line1['myLine'][1:], 'r', label=\"1hr WD, 3hr WE\")\n",
    "plt.plot(line2[\"myTime\"][1:], line2['myLine'][1:], 'b', label=\"2hr both\")\n",
    "#plt.plot(line2[\"myTime\"][1:], line2['myLine'][1:], 'b', label=\"Perfect Mixing - .03 Beta\")\n",
    "#plt.plot(line4[\"myTime\"][1:], line4['myLine'][1:], 'y', label=\"Perfect Mixing - .05 Beta\")\n",
    "#plt.plot(line3[\"myTime\"][1:], line3['myLine'][1:], 'g', label=\"Perfect Mixing - .10 Beta\")\n",
    "plt.title(\"Bubbles - 5% - .1 Beta\")\n",
    "plt.legend()\n",
    "\n",
    "plt.savefig(path + \"leisureTimeComparison.png\", dpi=300)"
   ]
  },
  {
   "cell_type": "markdown",
   "id": "735c1956",
   "metadata": {},
   "source": [
    "Calculating the r_eff"
   ]
  },
  {
   "cell_type": "code",
   "execution_count": null,
   "id": "048a7b5b",
   "metadata": {},
   "outputs": [],
   "source": [
    "path = \"/Users/swise/workspace/worldbank/Disease-Modelling-SSA/notebooks/\"\n",
    "filename = \"infections_0.016_4_180_4.txt\"\n",
    "r_data = pd.read_csv(path + filename, sep='\\t')\n"
   ]
  },
  {
   "cell_type": "code",
   "execution_count": null,
   "id": "e8bb0b1c",
   "metadata": {},
   "outputs": [],
   "source": [
    "infections = r_data[r_data[\"ContagiousAt\"] != '1.7976931348623157E308']\n",
    "infections[\"HostNew\"] = infections[\"Host\"].astype(float).astype(str)\n",
    "infections[\"SourceNew\"] = infections[\"Source\"].astype(str)\n",
    "infections\n"
   ]
  },
  {
   "cell_type": "code",
   "execution_count": null,
   "id": "b066f11e",
   "metadata": {},
   "outputs": [],
   "source": [
    "allSources = infections[\"SourceNew\"]"
   ]
  },
  {
   "cell_type": "code",
   "execution_count": null,
   "id": "fddb7159",
   "metadata": {},
   "outputs": [],
   "source": [
    "infections[\"finishedAt\"] = min(infections[\"DiedAt\"], infections[\"RecoveredAt\"])"
   ]
  },
  {
   "cell_type": "code",
   "execution_count": null,
   "id": "ce6bfa96",
   "metadata": {},
   "outputs": [],
   "source": [
    "allSources.value_counts()"
   ]
  },
  {
   "cell_type": "code",
   "execution_count": null,
   "id": "7b4a4bec",
   "metadata": {},
   "outputs": [],
   "source": [
    "x = \"../data/verification/params_5perc_bubbles_30.txt\"\n",
    "\n",
    "x.split(\".\")[-2].split(\"/\")[-1]"
   ]
  },
  {
   "cell_type": "markdown",
   "id": "e4b885be",
   "metadata": {},
   "source": [
    "## Combining these constraints\n",
    "\n",
    "* Social bubbles + status\n",
    "* Social bubbles + space\n",
    "* Status + space\n",
    "* All three"
   ]
  },
  {
   "cell_type": "markdown",
   "id": "103ccc2e",
   "metadata": {},
   "source": [
    "## Future work: interventions\n",
    "\n",
    "* lockdowns\n",
    "* someday, hygiene\n",
    "* someday, school closures"
   ]
  },
  {
   "cell_type": "markdown",
   "id": "b16124aa",
   "metadata": {},
   "source": [
    "## Template \n",
    "\n",
    "* cases over time\n",
    "* deaths over time\n",
    "* measuring R\n",
    "* constraint specific\n"
   ]
  },
  {
   "cell_type": "code",
   "execution_count": null,
   "id": "6a6d2162",
   "metadata": {},
   "outputs": [],
   "source": []
  }
 ],
 "metadata": {
  "kernelspec": {
   "display_name": "Python 3 (ipykernel)",
   "language": "python",
   "name": "python3"
  },
  "language_info": {
   "codemirror_mode": {
    "name": "ipython",
    "version": 3
   },
   "file_extension": ".py",
   "mimetype": "text/x-python",
   "name": "python",
   "nbconvert_exporter": "python",
   "pygments_lexer": "ipython3",
   "version": "3.9.6"
  }
 },
 "nbformat": 4,
 "nbformat_minor": 5
}
