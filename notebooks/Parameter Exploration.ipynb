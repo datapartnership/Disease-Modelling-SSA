{
 "cells": [
  {
   "cell_type": "code",
   "execution_count": 1,
   "metadata": {},
   "outputs": [],
   "source": [
    "from ema_workbench import (Model, RealParameter, ScalarOutcome, TimeSeriesOutcome, ArrayOutcome, ema_logging, Constant,\n",
    "                           perform_experiments)\n",
    "import subprocess\n",
    "import pandas as pd\n",
    "import math\n",
    "\n",
    "import matplotlib.pyplot as plt"
   ]
  },
  {
   "cell_type": "code",
   "execution_count": 2,
   "metadata": {},
   "outputs": [],
   "source": [
    "def processModelOutput(filename):\n",
    "    r_data = pd.read_csv(filename, sep='\\t')\n",
    "    r_data['districtId'] = [int(str(x).split('_')[1]) for x in r_data[\"myId\"]]\n",
    "    return {'results': r_data}\n",
    "\n",
    "def WorldBankMASONmodel(rawseed):\n",
    "    \n",
    "    seed = str(int(rawseed))\n",
    "    dataDir = \"/Users/swise/workspace/worldbank/Disease-Modelling-SSA/data/\"\n",
    "    numDays = 30 * 6\n",
    "    beta = 0.03 #0.016\n",
    "    exportFilename = \"exportMe\" + seed + \".txt\"\n",
    "    subprocess.call(['java', '-Xms6G', '-jar', '../java/WorldBankCovid19/libs/WB_covid19ABM.jar', str(numDays), dataDir, str(beta), seed, exportFilename])\n",
    "\n",
    "    return processModelOutput(exportFilename)"
   ]
  },
  {
   "cell_type": "code",
   "execution_count": null,
   "metadata": {},
   "outputs": [],
   "source": [
    "#myResult = WorldBankMASONmodel(12345) # testing"
   ]
  },
  {
   "cell_type": "code",
   "execution_count": null,
   "metadata": {},
   "outputs": [
    {
     "name": "stderr",
     "output_type": "stream",
     "text": [
      "[Fri Jul 23 17:31:49 MainProcess/INFO] performing 10 scenarios * 1 policies * 1 model(s) = 10 experiments\n",
      "[Fri Jul 23 17:31:49 MainProcess/INFO] performing experiments sequentially\n"
     ]
    }
   ],
   "source": [
    "### ema_logging.LOG_FORMAT = '[%(name)s/%(levelname)s/%(processName)s] %(message)s'\n",
    "ema_logging.log_to_stderr(ema_logging.INFO)\n",
    "\n",
    "model = Model('WorldBankMason', function=WorldBankMASONmodel)  # instantiate the model\n",
    "\n",
    "# specify uncertainties\n",
    "model.uncertainties = [RealParameter('rawseed', 1, 10000)]\n",
    "\n",
    "#model.constants = [\n",
    "#    Constant('dataDir', \"/Users/swise/workspace/worldbank/Disease-Modelling-SSA/data/\"),\n",
    "#    Constant('numDays', 7),\n",
    "#    Constant('beta', 0.016)\n",
    "#]\n",
    "\n",
    "# specify outcomes\n",
    "\n",
    "model.outcomes = [\n",
    "    ArrayOutcome('results')\n",
    "#    TimeSeriesOutcome('metric_died_count'),\n",
    "#    TimeSeriesOutcome('metric_new_hospitalized'),\n",
    "#    TimeSeriesOutcome('metric_new_critical'),\n",
    "#    TimeSeriesOutcome('metric_new_cases_asympt'),\n",
    "#    TimeSeriesOutcome('metric_new_cases_sympt')\n",
    "]\n",
    "\n",
    "results = perform_experiments(model, 10)"
   ]
  },
  {
   "cell_type": "code",
   "execution_count": null,
   "metadata": {},
   "outputs": [],
   "source": [
    "results[1]"
   ]
  }
 ],
 "metadata": {
  "kernelspec": {
   "display_name": "Python 3",
   "language": "python",
   "name": "python3"
  },
  "language_info": {
   "codemirror_mode": {
    "name": "ipython",
    "version": 3
   },
   "file_extension": ".py",
   "mimetype": "text/x-python",
   "name": "python",
   "nbconvert_exporter": "python",
   "pygments_lexer": "ipython3",
   "version": "3.8.3"
  }
 },
 "nbformat": 4,
 "nbformat_minor": 4
}
