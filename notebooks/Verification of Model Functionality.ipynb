{
 "cells": [
  {
   "cell_type": "markdown",
   "metadata": {},
   "source": [
    "# Significant aspects of model construction\n",
    "\n",
    "* econ status\n",
    "* bubbles\n",
    "* spatiality\n",
    "* mobility\n",
    "\n",
    "Metrics upon which to assess these:\n",
    "* cases over time\n",
    "* deaths over time\n",
    "* effective R at different points\n",
    "* constraint-specific measures (e.g. cases over time per district in models with districts)"
   ]
  },
  {
   "cell_type": "code",
   "execution_count": null,
   "metadata": {},
   "outputs": [],
   "source": [
    "def processModelOutput(filename):\n",
    "    r_data = pd.read_csv(filename, sep='\\t')\n",
    "    r_data['districtId'] = [int(str(x).split('_')[1]) for x in r_data[\"myId\"]]\n",
    "    return {'results': r_data}\n",
    "\n",
    "def WorldBankMASONmodel(seed, paramfile, beta):\n",
    "    \n",
    "    dataDir = \"/home/wb488473/Disease-Modelling-SSA/data/\"\n",
    "    numDays = 30 * 6\n",
    "    exportFilename = \"exportMe\" + seed + \"_\" + beta + \".txt\"\n",
    "    subprocess.call(['java', '-Xms20G', '-jar', '../java/WorldBankCovid19/libs/WB_covid19ABM.jar', str(numDays), dataDir, str(beta), seed, exportFilename])\n",
    "    # Sophie upped the -Xms to 20G from 6GB\n",
    "    return processModelOutput(exportFilename)"
   ]
  },
  {
   "cell_type": "markdown",
   "metadata": {},
   "source": [
    "## Undifferentiated base case\n",
    "\n",
    "Individuals are created without distinct statuses and their social bubbles are set to be the size of the entire community. There is a single district in which each agent is initialised and movement between districts (being meaningless) is zeroed out. Thus, status, social bubbles, and space are all excluded from this scenario."
   ]
  },
  {
   "cell_type": "markdown",
   "metadata": {},
   "source": [
    "#### Cases over time\n"
   ]
  },
  {
   "cell_type": "markdown",
   "metadata": {},
   "source": [
    "#### Deaths over time"
   ]
  },
  {
   "cell_type": "markdown",
   "metadata": {},
   "source": [
    "#### Measuring R"
   ]
  },
  {
   "cell_type": "markdown",
   "metadata": {},
   "source": [
    "#### Constraint-specific?"
   ]
  },
  {
   "cell_type": "markdown",
   "metadata": {},
   "source": [
    "## Introducing one constraint at a time"
   ]
  },
  {
   "cell_type": "markdown",
   "metadata": {},
   "source": [
    "### Social Bubbles"
   ]
  },
  {
   "cell_type": "markdown",
   "metadata": {},
   "source": [
    "### Status"
   ]
  },
  {
   "cell_type": "markdown",
   "metadata": {},
   "source": [
    "### Spatial Partitioning\n",
    "\n",
    "(districts exist)"
   ]
  },
  {
   "cell_type": "markdown",
   "metadata": {},
   "source": [
    "## Combining these constraints\n",
    "\n",
    "* Social bubbles + status\n",
    "* Social bubbles + space\n",
    "* Status + space\n",
    "* All three"
   ]
  },
  {
   "cell_type": "markdown",
   "metadata": {},
   "source": [
    "## Mobility"
   ]
  },
  {
   "cell_type": "markdown",
   "metadata": {},
   "source": [
    "### Weekday/weekend"
   ]
  },
  {
   "cell_type": "markdown",
   "metadata": {},
   "source": [
    "### Interdisctrict"
   ]
  },
  {
   "cell_type": "markdown",
   "metadata": {},
   "source": [
    "## Future work: interventions\n",
    "\n",
    "* lockdowns\n",
    "* someday, hygiene\n",
    "* someday, school closures"
   ]
  },
  {
   "cell_type": "code",
   "execution_count": null,
   "metadata": {},
   "outputs": [],
   "source": []
  },
  {
   "cell_type": "code",
   "execution_count": null,
   "metadata": {},
   "outputs": [],
   "source": []
  },
  {
   "cell_type": "markdown",
   "metadata": {},
   "source": [
    "## Template\n",
    "\n",
    "such description wow"
   ]
  },
  {
   "cell_type": "markdown",
   "metadata": {},
   "source": [
    "#### Cases over time\n"
   ]
  },
  {
   "cell_type": "markdown",
   "metadata": {},
   "source": [
    "#### Deaths over time"
   ]
  },
  {
   "cell_type": "markdown",
   "metadata": {},
   "source": [
    "#### Measuring R"
   ]
  },
  {
   "cell_type": "markdown",
   "metadata": {},
   "source": [
    "#### Constraint-specific?"
   ]
  }
 ],
 "metadata": {
  "kernelspec": {
   "display_name": "Python 3",
   "language": "python",
   "name": "python3"
  },
  "language_info": {
   "codemirror_mode": {
    "name": "ipython",
    "version": 3
   },
   "file_extension": ".py",
   "mimetype": "text/x-python",
   "name": "python",
   "nbconvert_exporter": "python",
   "pygments_lexer": "ipython3",
   "version": "3.8.3"
  }
 },
 "nbformat": 4,
 "nbformat_minor": 4
}
