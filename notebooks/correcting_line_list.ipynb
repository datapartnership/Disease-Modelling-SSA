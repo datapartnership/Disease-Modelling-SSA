{
 "cells": [
  {
   "cell_type": "markdown",
   "id": "realistic-latvia",
   "metadata": {},
   "source": [
    "## Here I am checking if there's anything wrong with input files - found small issue with census"
   ]
  },
  {
   "cell_type": "code",
   "execution_count": 42,
   "id": "activated-technique",
   "metadata": {},
   "outputs": [
    {
     "ename": "ValueError",
     "evalue": "could not convert string to float: 'less than 1 year'",
     "output_type": "error",
     "traceback": [
      "\u001b[0;31m---------------------------------------------------------------------------\u001b[0m",
      "\u001b[0;31mValueError\u001b[0m                                Traceback (most recent call last)",
      "\u001b[0;32m<ipython-input-42-df30e3ca6272>\u001b[0m in \u001b[0;36m<module>\u001b[0;34m\u001b[0m\n\u001b[1;32m      4\u001b[0m \u001b[0mfrac\u001b[0m \u001b[0;34m=\u001b[0m \u001b[0;36m0.05\u001b[0m\u001b[0;34m\u001b[0m\u001b[0;34m\u001b[0m\u001b[0m\n\u001b[1;32m      5\u001b[0m \u001b[0mX_tr\u001b[0m \u001b[0;34m=\u001b[0m \u001b[0mX_train\u001b[0m\u001b[0;34m.\u001b[0m\u001b[0msample\u001b[0m\u001b[0;34m(\u001b[0m\u001b[0mfrac\u001b[0m\u001b[0;34m=\u001b[0m\u001b[0mfrac\u001b[0m\u001b[0;34m,\u001b[0m \u001b[0mrandom_state\u001b[0m\u001b[0;34m=\u001b[0m\u001b[0;36m1029\u001b[0m\u001b[0;34m)\u001b[0m\u001b[0;34m\u001b[0m\u001b[0;34m\u001b[0m\u001b[0m\n\u001b[0;32m----> 6\u001b[0;31m \u001b[0mgb\u001b[0m\u001b[0;34m.\u001b[0m\u001b[0mfit\u001b[0m\u001b[0;34m(\u001b[0m\u001b[0mX_tr\u001b[0m\u001b[0;34m,\u001b[0m \u001b[0mindividual_df\u001b[0m\u001b[0;34m.\u001b[0m\u001b[0mloc\u001b[0m\u001b[0;34m[\u001b[0m\u001b[0mX_tr\u001b[0m\u001b[0;34m.\u001b[0m\u001b[0mindex\u001b[0m\u001b[0;34m,\u001b[0m \u001b[0;34m'age'\u001b[0m\u001b[0;34m]\u001b[0m\u001b[0;34m)\u001b[0m\u001b[0;34m\u001b[0m\u001b[0;34m\u001b[0m\u001b[0m\n\u001b[0m\u001b[1;32m      7\u001b[0m \u001b[0;31m#error is on this last line\u001b[0m\u001b[0;34m\u001b[0m\u001b[0;34m\u001b[0m\u001b[0;34m\u001b[0m\u001b[0m\n",
      "\u001b[0;32m/opt/anaconda3/envs/covid19_abm/lib/python3.8/site-packages/sklearn/ensemble/_gb.py\u001b[0m in \u001b[0;36mfit\u001b[0;34m(self, X, y, sample_weight, monitor)\u001b[0m\n\u001b[1;32m    416\u001b[0m \u001b[0;34m\u001b[0m\u001b[0m\n\u001b[1;32m    417\u001b[0m         \u001b[0my\u001b[0m \u001b[0;34m=\u001b[0m \u001b[0mcolumn_or_1d\u001b[0m\u001b[0;34m(\u001b[0m\u001b[0my\u001b[0m\u001b[0;34m,\u001b[0m \u001b[0mwarn\u001b[0m\u001b[0;34m=\u001b[0m\u001b[0;32mTrue\u001b[0m\u001b[0;34m)\u001b[0m\u001b[0;34m\u001b[0m\u001b[0;34m\u001b[0m\u001b[0m\n\u001b[0;32m--> 418\u001b[0;31m         \u001b[0my\u001b[0m \u001b[0;34m=\u001b[0m \u001b[0mself\u001b[0m\u001b[0;34m.\u001b[0m\u001b[0m_validate_y\u001b[0m\u001b[0;34m(\u001b[0m\u001b[0my\u001b[0m\u001b[0;34m,\u001b[0m \u001b[0msample_weight\u001b[0m\u001b[0;34m)\u001b[0m\u001b[0;34m\u001b[0m\u001b[0;34m\u001b[0m\u001b[0m\n\u001b[0m\u001b[1;32m    419\u001b[0m \u001b[0;34m\u001b[0m\u001b[0m\n\u001b[1;32m    420\u001b[0m         \u001b[0;32mif\u001b[0m \u001b[0mself\u001b[0m\u001b[0;34m.\u001b[0m\u001b[0mn_iter_no_change\u001b[0m \u001b[0;32mis\u001b[0m \u001b[0;32mnot\u001b[0m \u001b[0;32mNone\u001b[0m\u001b[0;34m:\u001b[0m\u001b[0;34m\u001b[0m\u001b[0;34m\u001b[0m\u001b[0m\n",
      "\u001b[0;32m/opt/anaconda3/envs/covid19_abm/lib/python3.8/site-packages/sklearn/ensemble/_gb.py\u001b[0m in \u001b[0;36m_validate_y\u001b[0;34m(self, y, sample_weight)\u001b[0m\n\u001b[1;32m    729\u001b[0m         \u001b[0mself\u001b[0m\u001b[0;34m.\u001b[0m\u001b[0mn_classes_\u001b[0m \u001b[0;34m=\u001b[0m \u001b[0;36m1\u001b[0m\u001b[0;34m\u001b[0m\u001b[0;34m\u001b[0m\u001b[0m\n\u001b[1;32m    730\u001b[0m         \u001b[0;32mif\u001b[0m \u001b[0my\u001b[0m\u001b[0;34m.\u001b[0m\u001b[0mdtype\u001b[0m\u001b[0;34m.\u001b[0m\u001b[0mkind\u001b[0m \u001b[0;34m==\u001b[0m \u001b[0;34m'O'\u001b[0m\u001b[0;34m:\u001b[0m\u001b[0;34m\u001b[0m\u001b[0;34m\u001b[0m\u001b[0m\n\u001b[0;32m--> 731\u001b[0;31m             \u001b[0my\u001b[0m \u001b[0;34m=\u001b[0m \u001b[0my\u001b[0m\u001b[0;34m.\u001b[0m\u001b[0mastype\u001b[0m\u001b[0;34m(\u001b[0m\u001b[0mDOUBLE\u001b[0m\u001b[0;34m)\u001b[0m\u001b[0;34m\u001b[0m\u001b[0;34m\u001b[0m\u001b[0m\n\u001b[0m\u001b[1;32m    732\u001b[0m         \u001b[0;31m# Default implementation\u001b[0m\u001b[0;34m\u001b[0m\u001b[0;34m\u001b[0m\u001b[0;34m\u001b[0m\u001b[0m\n\u001b[1;32m    733\u001b[0m         \u001b[0;32mreturn\u001b[0m \u001b[0my\u001b[0m\u001b[0;34m\u001b[0m\u001b[0;34m\u001b[0m\u001b[0m\n",
      "\u001b[0;31mValueError\u001b[0m: could not convert string to float: 'less than 1 year'"
     ]
    }
   ],
   "source": [
    "\n",
    "# set up the regressor and train it on the sample data\n",
    "gb = GradientBoostingRegressor(n_estimators=100, max_depth=3, random_state=1029)\n",
    "# rf = RandomForestRegressor(n_estimators=100, max_depth=3, random_state=1029, n_jobs=50)\n",
    "frac = 0.05\n",
    "X_tr = X_train.sample(frac=frac, random_state=1029)\n",
    "gb.fit(X_tr, individual_df.loc[X_tr.index, 'age'])\n",
    "#error is on this last line"
   ]
  },
  {
   "cell_type": "markdown",
   "id": "subtle-combine",
   "metadata": {},
   "source": [
    "# Here I am checking why we got no cases in output from previous 'latest_line_list.pickle'"
   ]
  },
  {
   "cell_type": "code",
   "execution_count": 4,
   "id": "crude-discretion",
   "metadata": {},
   "outputs": [],
   "source": [
    "import pickle"
   ]
  },
  {
   "cell_type": "code",
   "execution_count": 5,
   "id": "speaking-dylan",
   "metadata": {},
   "outputs": [],
   "source": [
    "# unpickle the line list and view it \n",
    "\n",
    "pickle_off = open(\"../data/preprocessed/line_list/latest_line_list.pickle\", \"rb\")"
   ]
  },
  {
   "cell_type": "code",
   "execution_count": 6,
   "id": "periodic-minute",
   "metadata": {},
   "outputs": [],
   "source": [
    "line_list = pickle.load(pickle_off)"
   ]
  },
  {
   "cell_type": "code",
   "execution_count": 7,
   "id": "numeric-highlight",
   "metadata": {},
   "outputs": [],
   "source": [
    "from pprint import pprint"
   ]
  },
  {
   "cell_type": "code",
   "execution_count": 8,
   "id": "everyday-council",
   "metadata": {},
   "outputs": [
    {
     "name": "stdout",
     "output_type": "stream",
     "text": [
      "{'w_32': 5, 'w_10': 3, 'w_3': 1, 'w_1': 28, 'w_26': 8, 'w_17': 5, 'w_15': 2, 'w_5': 2, 'w_33': 6, 'w_34': 2, 'w_54': 2, 'w_2': 162, 'w_41': 3, 'w_28': 4, 'w_29': 1, 'w_57': 1, 'w_23': 3, 'w_6': 3, 'w_19': 17, 'w_36': 37, 'w_30': 3, 'w_14': 1, 'w_21': 2, 'w_7': 2, 'w_8': 2, 'w_4': 1, 'w_9': 1, 'w_16': 1}\n"
     ]
    }
   ],
   "source": [
    "print(line_list)"
   ]
  },
  {
   "cell_type": "code",
   "execution_count": 38,
   "id": "lasting-ranch",
   "metadata": {},
   "outputs": [
    {
     "data": {
      "text/plain": [
       "Index(['d_32', 'd_10', 'd_3', 'd_1', 'd_26', 'd_17', 'd_15', 'd_5', 'd_33',\n",
       "       'd_34', 'd_54', 'd_2', 'd_41', 'd_28', 'd_29', 'd_57', 'd_23', 'd_6',\n",
       "       'd_19', 'd_36', 'd_30', 'd_14', 'd_21', 'd_7', 'd_8', 'd_4', 'd_9',\n",
       "       'd_16'],\n",
       "      dtype='object')"
      ]
     },
     "execution_count": 38,
     "metadata": {},
     "output_type": "execute_result"
    }
   ],
   "source": [
    "import pandas as pd\n",
    "l_list = {'d_32': 5, 'd_10': 3, 'd_3': 1, 'd_1': 28, 'd_26': 8, 'd_17': 5, 'd_15': 2, 'd_5': 2, 'd_33': 6, 'd_34': 2, 'd_54': 2, 'd_2': 162, 'd_41': 3, 'd_28': 4, 'd_29': 1, 'd_57': 1, 'd_23': 3, 'd_6': 3, 'd_19': 17, 'd_36': 37, 'd_30': 3, 'd_14': 1, 'd_21': 2, 'd_7': 2, 'd_8': 2, 'd_4': 1, 'd_9': 1, 'd_16': 1}\n",
    "series_llist = pd.Series(l_list)\n",
    "series_llist.index"
   ]
  },
  {
   "cell_type": "markdown",
   "id": "liquid-nutrition",
   "metadata": {},
   "source": [
    "## creating pickle file with the d_ in front "
   ]
  },
  {
   "cell_type": "code",
   "execution_count": 39,
   "id": "falling-attachment",
   "metadata": {},
   "outputs": [],
   "source": [
    "import pickle\n",
    "pickle_on = open (\"../data/preprocessed/line_list/d_line_list.pickle\", \"wb\")\n",
    "pickle.dump(series_llist, pickle_on)\n",
    "pickle_on.close()"
   ]
  },
  {
   "cell_type": "markdown",
   "id": "regulation-foundation",
   "metadata": {},
   "source": [
    "## creating pickle file without d infront "
   ]
  },
  {
   "cell_type": "code",
   "execution_count": 29,
   "id": "imperial-affiliation",
   "metadata": {},
   "outputs": [],
   "source": [
    "l_list = {'32': 5, '10': 3, '3': 1, '1': 28, '26': 8, '17': 5, '15': 2, '5': 2, '33': 6, '34': 2, '54': 2, '2': 162, '41': 3, '28': 4, '29': 1, '57': 1, '23': 3, '6': 3, '19': 17, '36': 37, '30': 3, '14': 1, '21': 2, '7': 2, '8': 2, '4': 1, '9': 1, '16': 1}\n"
   ]
  },
  {
   "cell_type": "code",
   "execution_count": 2,
   "id": "organic-prediction",
   "metadata": {},
   "outputs": [],
   "source": [
    "import pickle\n",
    "pickle_on = open (\"../data/preprocessed/line_list/line_list.pickle\", \"wb\")\n",
    "pickle.dump(l_list, pickle_on)\n",
    "pickle_on.close()"
   ]
  },
  {
   "cell_type": "markdown",
   "id": "square-cleveland",
   "metadata": {},
   "source": [
    "# Take a look at one of the pickle output values in case it has more than the logs"
   ]
  },
  {
   "cell_type": "code",
   "execution_count": 16,
   "id": "dutch-layout",
   "metadata": {},
   "outputs": [],
   "source": [
    "# unpickle the line list and view it \n",
    "\n",
    "pickle_off = open(\"../data/logs/model_dump_file_test_5perc.pickle\", \"rb\")"
   ]
  },
  {
   "cell_type": "code",
   "execution_count": 17,
   "id": "compact-programmer",
   "metadata": {},
   "outputs": [],
   "source": [
    "pickle_output = pickle.load(pickle_off)"
   ]
  },
  {
   "cell_type": "code",
   "execution_count": 18,
   "id": "chinese-creativity",
   "metadata": {},
   "outputs": [
    {
     "data": {
      "text/plain": [
       "<covid19_abm.scenario_models.DynamicPhase1GovernmentOpenSchoolsScenario at 0x1044d3eb0>"
      ]
     },
     "execution_count": 18,
     "metadata": {},
     "output_type": "execute_result"
    }
   ],
   "source": [
    "pickle_output"
   ]
  },
  {
   "cell_type": "code",
   "execution_count": null,
   "id": "under-metadata",
   "metadata": {},
   "outputs": [],
   "source": []
  }
 ],
 "metadata": {
  "kernelspec": {
   "display_name": "Python 3",
   "language": "python",
   "name": "python3"
  },
  "language_info": {
   "codemirror_mode": {
    "name": "ipython",
    "version": 3
   },
   "file_extension": ".py",
   "mimetype": "text/x-python",
   "name": "python",
   "nbconvert_exporter": "python",
   "pygments_lexer": "ipython3",
   "version": "3.8.5"
  }
 },
 "nbformat": 4,
 "nbformat_minor": 5
}
