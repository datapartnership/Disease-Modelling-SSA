{
 "cells": [
  {
   "cell_type": "markdown",
   "metadata": {},
   "source": [
    "# Significant aspects of model construction\n",
    "\n",
    "* econ status\n",
    "* bubbles\n",
    "* spatiality\n",
    "* mobility\n",
    "\n",
    "Metrics upon which to assess these:\n",
    "* cases over time\n",
    "* deaths over time\n",
    "* effective R at different points\n",
    "* constraint-specific measures (e.g. cases over time per district in models with districts)"
   ]
  },
  {
   "cell_type": "code",
   "execution_count": null,
   "metadata": {},
   "outputs": [],
   "source": [
    "import pandas as pd\n",
    "import numpy as np\n",
    "from datetime import datetime, timedelta\n",
    "import matplotlib as mpl\n",
    "import matplotlib.pyplot as plt\n",
    "import os\n",
    "import pylab as plt\n",
    "from os.path import isfile, join\n",
    "from glob import glob\n",
    "\n",
    "import seaborn as sns\n",
    "sns.set(style=\"darkgrid\")"
   ]
  },
  {
   "cell_type": "code",
   "execution_count": null,
   "metadata": {},
   "outputs": [],
   "source": [
    "def processModelOutput(filename):\n",
    "    r_data = pd.read_csv(filename, sep='\\t')\n",
    "    r_data['districtId'] = [int(str(x).split('_')[1]) for x in r_data[\"myId\"]]\n",
    "    return {'results': r_data}\n",
    "\n",
    "def findROFInstance():\n",
    "    # total number of individuals infected by the introduction of an infectious person\n",
    "    return beta * n\n",
    "\n",
    "def WorldBankMASONmodel(seed, paramfile, beta):\n",
    "    \n",
    "    dataDir = \"/home/wb488473/Disease-Modelling-SSA/data/\"\n",
    "    numDays = 30 * 6\n",
    "    exportFilename = \"exportMe\" + seed + \"_\" + beta + \".txt\"\n",
    "    subprocess.call(['java', '-Xms20G', '-jar', '../java/WorldBankCovid19/libs/WB_covid19ABM.jar', str(numDays), dataDir, str(beta), seed, exportFilename])\n",
    "    # Sophie upped the -Xms to 20G from 6GB\n",
    "    return processModelOutput(exportFilename)"
   ]
  },
  {
   "cell_type": "code",
   "execution_count": null,
   "metadata": {},
   "outputs": [],
   "source": []
  },
  {
   "cell_type": "markdown",
   "metadata": {},
   "source": [
    "## Undifferentiated base case\n",
    "\n",
    "Individuals are created without distinct statuses and their social bubbles are set to be the size of the entire community. There is a single district in which each agent is initialised and movement between districts (being meaningless) is zeroed out. Thus, status, social bubbles, and space are all excluded from this scenario.\n",
    "\n",
    "The data directory associated with this case is in its own section, under the directory **data/verification/** and the specific set of parameters is as given in the file **data/verification/params_basecase.txt**. In particular:\n",
    "\n",
    "* the census file has all economic statuses set to the value \"Default\" and all locations for home and work set to an imaginary \"District 1\"\n",
    "* the daily transitions files are both set to 100% chance of moving from District 1 to District 1.\n",
    "* mobility rates do not decrease after a lockdown...\n",
    "* the lockdown file is empty of scheduled lockdowns, however, for belt-and-bracers insurance!\n",
    "\n",
    "The infection parameters are the defaults as seen in the config/covasim_infect_transitions.txt\n",
    "\n",
    "The files to vary are therefore the following:\n",
    "* **numWeeklyInteractionsByStatus.txt**: a record of how many interactions agents with the \"Default\" status should have per week\n",
    "* **lineList_10.txt**: the infections to seed in the single district.\n",
    "\n",
    "An exploration of these is given below."
   ]
  },
  {
   "cell_type": "code",
   "execution_count": null,
   "metadata": {},
   "outputs": [],
   "source": [
    "# run the simulation with the given param file"
   ]
  },
  {
   "cell_type": "markdown",
   "metadata": {},
   "source": [
    "#### Cases over time\n"
   ]
  },
  {
   "cell_type": "code",
   "execution_count": null,
   "metadata": {},
   "outputs": [],
   "source": [
    "g = sns.relplot(x=\"time\", y=\"scaled_sim_cases\", kind=\"line\", hue=\"beta\", ci=None, data=nat_level, height=8, palette = \"BuPu\").set(title=\"Case projections of 10 beta runs - after scaling\")\n",
    "g.fig.autofmt_xdate()\n",
    "g.savefig('../data/output/plots/sim_cases_scaled_10betaruns.png')"
   ]
  },
  {
   "cell_type": "markdown",
   "metadata": {},
   "source": [
    "#### Deaths over time"
   ]
  },
  {
   "cell_type": "markdown",
   "metadata": {},
   "source": [
    "#### Measuring R"
   ]
  },
  {
   "cell_type": "markdown",
   "metadata": {},
   "source": [
    "## Introducing one constraint at a time"
   ]
  },
  {
   "cell_type": "markdown",
   "metadata": {},
   "source": [
    "### Social Bubbles"
   ]
  },
  {
   "cell_type": "markdown",
   "metadata": {},
   "source": [
    "### Status"
   ]
  },
  {
   "cell_type": "markdown",
   "metadata": {},
   "source": [
    "### Spatial Partitioning\n",
    "\n",
    "(districts exist)"
   ]
  },
  {
   "cell_type": "markdown",
   "metadata": {},
   "source": [
    "## Combining these constraints\n",
    "\n",
    "* Social bubbles + status\n",
    "* Social bubbles + space\n",
    "* Status + space\n",
    "* All three"
   ]
  },
  {
   "cell_type": "markdown",
   "metadata": {},
   "source": [
    "## Mobility"
   ]
  },
  {
   "cell_type": "markdown",
   "metadata": {},
   "source": [
    "### Weekday/weekend"
   ]
  },
  {
   "cell_type": "markdown",
   "metadata": {},
   "source": [
    "### Interdisctrict"
   ]
  },
  {
   "cell_type": "markdown",
   "metadata": {},
   "source": [
    "## Future work: interventions\n",
    "\n",
    "* lockdowns\n",
    "* someday, hygiene\n",
    "* someday, school closures"
   ]
  },
  {
   "cell_type": "code",
   "execution_count": null,
   "metadata": {},
   "outputs": [],
   "source": []
  },
  {
   "cell_type": "code",
   "execution_count": null,
   "metadata": {},
   "outputs": [],
   "source": []
  },
  {
   "cell_type": "markdown",
   "metadata": {},
   "source": [
    "## Template\n",
    "\n",
    "such description wow"
   ]
  },
  {
   "cell_type": "markdown",
   "metadata": {},
   "source": [
    "#### Cases over time\n"
   ]
  },
  {
   "cell_type": "markdown",
   "metadata": {},
   "source": [
    "#### Deaths over time"
   ]
  },
  {
   "cell_type": "markdown",
   "metadata": {},
   "source": [
    "#### Measuring R"
   ]
  },
  {
   "cell_type": "markdown",
   "metadata": {},
   "source": [
    "#### Constraint-specific?"
   ]
  }
 ],
 "metadata": {
  "kernelspec": {
   "display_name": "Python 3",
   "language": "python",
   "name": "python3"
  },
  "language_info": {
   "codemirror_mode": {
    "name": "ipython",
    "version": 3
   },
   "file_extension": ".py",
   "mimetype": "text/x-python",
   "name": "python",
   "nbconvert_exporter": "python",
   "pygments_lexer": "ipython3",
   "version": "3.8.3"
  }
 },
 "nbformat": 4,
 "nbformat_minor": 4
}
