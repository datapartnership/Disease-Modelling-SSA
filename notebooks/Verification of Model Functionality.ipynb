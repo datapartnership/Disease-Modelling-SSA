{
 "cells": [
  {
   "cell_type": "markdown",
   "metadata": {},
   "source": [
    "# Significant aspects of model construction\n",
    "\n",
    "* econ status\n",
    "* ~bubbles~\n",
    "* spatiality\n",
    "* mobility\n",
    "\n",
    "Metrics upon which to assess these:\n",
    "* cases over time\n",
    "* deaths over time\n",
    "* effective R at different points\n",
    "* constraint-specific measures (e.g. cases over time per district in models with districts)"
   ]
  },
  {
   "cell_type": "code",
   "execution_count": 6,
   "metadata": {},
   "outputs": [],
   "source": [
    "import pandas as pd\n",
    "import numpy as np\n",
    "from datetime import datetime, timedelta\n",
    "import matplotlib as mpl\n",
    "import matplotlib.pyplot as plt\n",
    "import os\n",
    "import pylab as plt\n",
    "from os.path import isfile, join\n",
    "from glob import glob\n",
    "import subprocess\n",
    "import re\n",
    "\n",
    "\n",
    "import seaborn as sns\n",
    "sns.set(style=\"darkgrid\")"
   ]
  },
  {
   "cell_type": "code",
   "execution_count": 20,
   "metadata": {},
   "outputs": [],
   "source": [
    "def processModelOutput(filename):\n",
    "    r_data = pd.read_csv(filename, sep='\\t')\n",
    "    r_data['districtId'] = [int(str(x).split('_')[1]) for x in r_data[\"myId\"]]\n",
    "    return {'results': r_data}\n",
    "\n",
    "def processInfections(filename):\n",
    "    r_data = pd.read_csv(filename, sep='\\t')\n",
    "    return {'results': r_data}\n",
    "    \n",
    "\n",
    "def findROFInstance():\n",
    "    # total number of individuals infected by the introduction of an infectious person\n",
    "    return beta * n\n",
    "\n",
    "def WorldBankMASONmodel(myOutputPrefix, seed, paramfile, beta, numDays=30):\n",
    "    \n",
    "    dataDir = \"/Users/swise/workspace/worldbank/Disease-Modelling-SSA/data/verification/\"#\"/home/wb488473/Disease-Modelling-SSA/data/\"\n",
    "    \n",
    "    exportFilename = myOutputPrefix + \"_\" + str(seed) + \"_\" + str(beta) + \".txt\"\n",
    "    exportInfectionsFilename = myOutputPrefix + \"_Infections_\" + str(seed) + \"_\" + str(beta) + \".txt\"\n",
    "    \n",
    "    subprocess.call(['java', '-Xms6G', '-jar', '../java/WorldBankCovid19/libs/WB_covid19ABM.jar', str(numDays), \n",
    "                     dataDir, str(beta), str(seed), exportFilename, paramfile, exportInfectionsFilename])\n",
    "    \n",
    "    # Sophie upped the -Xms to 20G from 6GB\n",
    "    #return processModelOutput(exportFilename)\n",
    "    return processInfections(exportInfectionsFilename)"
   ]
  },
  {
   "cell_type": "markdown",
   "metadata": {},
   "source": [
    "## Undifferentiated base case\n",
    "\n",
    "Individuals are created without distinct statuses and their interaction is perfect mixing with the entire community. There is a single district in which each agent is initialised and movement between districts (being meaningless) is zeroed out. Thus, status, social groups, and space are all excluded from this scenario.\n",
    "\n",
    "The data directory associated with this case is inunder the directory **data/verification/** and the specific set of parameters is as given in the file **data/verification/params_default1Dist.txt**. In particular:\n",
    "\n",
    "* the census file has all economic statuses set to the value \"Default\" and all locations for home and work set to an imaginary \"District 1\"\n",
    "* the daily transitions files are both set to 100% chance of moving from District 1 to District 1.\n",
    "* mobility rates do not decrease after a lockdown...\n",
    "* the lockdown file is empty of scheduled lockdowns, however, for belt-and-bracers insurance!\n",
    "\n",
    "The infection parameters are the defaults as seen in the config/covasim_infect_transitions.txt\n",
    "\n",
    "The data to vary are therefore the following:\n",
    "* **numWeeklyInteractionsByStatus_default.txt**: a record of how many interactions agents with the \"Default\" status should have per week\n",
    "* **lineList_5Perc_singleDist.txt**: the infections to seed in the single district.\n",
    "\n",
    "An exploration of these is given below."
   ]
  },
  {
   "cell_type": "markdown",
   "metadata": {},
   "source": [
    "* initialise with 20 cases\n",
    "* comparison: .03 and .3 betas\n",
    "* population sizes: 10% versus this 5%"
   ]
  },
  {
   "cell_type": "markdown",
   "metadata": {},
   "source": [
    "Running the scenarios.\n",
    "\n",
    "(WANT MORE SCENARIOS?? Just add more hateful loops! Or change betas to pop size, etc! Add new param files! Go hog wild!!!)"
   ]
  },
  {
   "cell_type": "code",
   "execution_count": 21,
   "metadata": {},
   "outputs": [
    {
     "name": "stdout",
     "output_type": "stream",
     "text": [
      "{'results':       Host    Source        Time LocOfTransmission ContagiousAt SymptomaticAt  \\\n",
      "0   713078       NaN   -1.000000               d_1            0             -   \n",
      "1   442301       NaN   -1.000000               d_1            0             -   \n",
      "2   535782       NaN   -1.000000               d_1            0             -   \n",
      "3   484735       NaN   -1.000000               d_1            0             -   \n",
      "4   732628       NaN   -1.000000               d_1            0             8   \n",
      "5    98542       NaN   -1.000000               d_1            0             -   \n",
      "6   137829       NaN   -1.000000               d_1            0             9   \n",
      "7   623316       NaN   -1.000000               d_1            0             -   \n",
      "8   696403       NaN   -1.000000               d_1            0             8   \n",
      "9   138114       NaN   -1.000000               d_1            0             7   \n",
      "10   64173       NaN   -1.000000               d_1            0             -   \n",
      "11  548164       NaN   -1.000000               d_1            0             -   \n",
      "12  533979  535782.0    1.000000               d_1            -             -   \n",
      "13  638652  713078.0    7.000000               d_1           35             -   \n",
      "14  192890  138114.0   10.000000               d_1           37             -   \n",
      "15  475445  484735.0   11.000000               d_1           38             -   \n",
      "16  484829  484735.0   13.000000               d_1           41            51   \n",
      "17  535740  535782.0   14.000000               d_1           41             -   \n",
      "18  485268  548164.0   15.000000               d_1           43             -   \n",
      "19  321906  713078.0   15.000000               d_1           44            52   \n",
      "20  535965  535782.0   17.000000               d_1            -             -   \n",
      "21  138743  137829.0   19.000000               d_1           47             -   \n",
      "22  488998  732628.0   27.000000               d_1           55            63   \n",
      "23  627622  623316.0   30.000000               d_1           57             -   \n",
      "24  552338  548164.0   39.000000               d_1           68             -   \n",
      "25  560140  638652.0   39.968618               d_1           68             -   \n",
      "26  626181  623316.0   48.000000               d_1            -             -   \n",
      "27  363753  137829.0   58.000000               d_1           87            96   \n",
      "28  715692  638652.0   65.968618               d_1           95             -   \n",
      "29  718002  485268.0   76.008564               d_1          105             -   \n",
      "30  472001  484829.0   76.950441               d_1          104             -   \n",
      "31  321407  321906.0   78.474242               d_1            -             -   \n",
      "32  669462  484829.0   98.950441               d_1            -             -   \n",
      "33  156536  488998.0  106.741316               d_1          135             -   \n",
      "34  366368  156536.0  140.747787               d_1            -             -   \n",
      "35   49284  363753.0  148.712374               d_1          177           184   \n",
      "36   37675   49284.0  180.196790               d_1            -             -   \n",
      "37   39130   49284.0  180.196790               d_1            -             -   \n",
      "\n",
      "   SevereAt CriticalAt  RecoveredAt DiedAt  \n",
      "0         -          -           51      -  \n",
      "1         -          -           52      -  \n",
      "2         -          -           51      -  \n",
      "3         -          -           52      -  \n",
      "4         -          -           61      -  \n",
      "5         -          -           51      -  \n",
      "6         -          -           62      -  \n",
      "7         -          -           51      -  \n",
      "8         -          -           60      -  \n",
      "9         -          -           61      -  \n",
      "10        -          -           51      -  \n",
      "11        -          -           53      -  \n",
      "12        -          -            2      -  \n",
      "13        -          -           88      -  \n",
      "14        -          -           88      -  \n",
      "15        -          -           91      -  \n",
      "16        -          -          103      -  \n",
      "17        -          -           92      -  \n",
      "18        -          -           95      -  \n",
      "19        -          -          106      -  \n",
      "20        -          -           18      -  \n",
      "21        -          -           98      -  \n",
      "22        -          -          114      -  \n",
      "23        -          -          109      -  \n",
      "24        -          -          121      -  \n",
      "25        -          -          119      -  \n",
      "26        -          -           49      -  \n",
      "27        -          -          149      -  \n",
      "28        -          -          148      -  \n",
      "29        -          -          158      -  \n",
      "30        -          -          155      -  \n",
      "31        -          -           79      -  \n",
      "32        -          -           99      -  \n",
      "33        -          -          187      -  \n",
      "34        -          -          141      -  \n",
      "35        -          -          237      -  \n",
      "36        -          -          181      -  \n",
      "37        -          -          181      -  }\n",
      "{'results':           Host    Source        Time LocOfTransmission ContagiousAt  \\\n",
      "0       713078       NaN   -1.000000               d_1            0   \n",
      "1       442301       NaN   -1.000000               d_1            0   \n",
      "2       535782       NaN   -1.000000               d_1            0   \n",
      "3       484735       NaN   -1.000000               d_1            0   \n",
      "4       732628       NaN   -1.000000               d_1            0   \n",
      "...        ...       ...         ...               ...          ...   \n",
      "748981  100161  105387.0  533.634765               d_1          560   \n",
      "748982  367996  366956.0  534.644106               d_1          564   \n",
      "748983  341810  466422.0  548.237770               d_1            -   \n",
      "748984   62423  381827.0  580.522918               d_1          610   \n",
      "748985  366098  367996.0  620.487571               d_1            -   \n",
      "\n",
      "       SymptomaticAt SevereAt CriticalAt RecoveredAt DiedAt  \n",
      "0                  -        -          -          51      -  \n",
      "1                  -        -          -          52      -  \n",
      "2                  -        -          -          51      -  \n",
      "3                  -        -          -          52      -  \n",
      "4                  8        -          -          59      -  \n",
      "...              ...      ...        ...         ...    ...  \n",
      "748981           570        -          -         624      -  \n",
      "748982           572        -          -         623      -  \n",
      "748983             -        -          -         549      -  \n",
      "748984             -        -          -         663      -  \n",
      "748985             -        -          -         621      -  \n",
      "\n",
      "[748986 rows x 10 columns]}\n"
     ]
    }
   ],
   "source": [
    "paramsPerScenario = [\"../data/verification/params_default1Dist.txt\"]   \n",
    "betasPerScenario = [0.03, 0.3]\n",
    "\n",
    "outputs = {}\n",
    "for paramsFile in paramsPerScenario:\n",
    "    for myBeta in betasPerScenario:\n",
    "        for i in range(1):\n",
    "            myRunName = paramsFile + \"_\" + str(myBeta) + \"_\" + str(i)\n",
    "            myO = WorldBankMASONmodel(\"sweep_default1Dist_betaComparison_\", i, paramsFile, myBeta)\n",
    "            outputs[myRunName] = myO"
   ]
  },
  {
   "cell_type": "markdown",
   "metadata": {},
   "source": [
    "#### Cases over time\n"
   ]
  },
  {
   "cell_type": "code",
   "execution_count": 209,
   "metadata": {
    "scrolled": true
   },
   "outputs": [],
   "source": [
    "def plotMetric(files, prefix, suffix, metrics = [], symbol = \"-\", alpha=1, weighting = 1):\n",
    "    myAvgLine = []\n",
    "    index = 0\n",
    "    template = \"^\" + prefix + \".*\" + suffix + \"$\"\n",
    "\n",
    "    for f in files:\n",
    "\n",
    "        if(re.search(template, f) != None): # f.startswith(prefix) and \n",
    "            r_data = pd.read_csv(path + f, sep='\\t')\n",
    "            totcases = []\n",
    "            for metric in metrics:\n",
    "                if len(totcases) == 0:\n",
    "                    totcases = r_data[metric]\n",
    "                else:        \n",
    "                    totcases = totcases + r_data[metric]\n",
    "            #totcases = r_data[metric]\n",
    "            \n",
    "            if len(myAvgLine) == 0:\n",
    "                myAvgLine = totcases\n",
    "            else:\n",
    "                myAvgLine += totcases\n",
    "            \n",
    "            # plot it\n",
    "            plt.plot(r_data[\"time\"][1:], weighting * totcases[1:], symbol, alpha=alpha)\n",
    "            index += 1\n",
    "    return {\"myLine\": weighting * myAvgLine/index, \"myTime\": r_data[\"time\"]}"
   ]
  },
  {
   "cell_type": "markdown",
   "metadata": {},
   "source": [
    "## HERE BE CODE FORMERLY USED FOR BUBBLES - CANNABALISE ACCORDINGLY"
   ]
  },
  {
   "cell_type": "code",
   "execution_count": 210,
   "metadata": {},
   "outputs": [
    {
     "data": {
      "text/plain": [
       "<matplotlib.legend.Legend at 0x7f93a0f748b0>"
      ]
     },
     "execution_count": 210,
     "metadata": {},
     "output_type": "execute_result"
    },
    {
     "data": {
      "image/png": "[encoded data removed]",
      "text/plain": [
       "<Figure size 432x288 with 1 Axes>"
      ]
     },
     "metadata": {},
     "output_type": "display_data"
    }
   ],
   "source": [
    "path = \"/Users/swise/workspace/worldbank/Disease-Modelling-SSA/data/verification/output/\"\n",
    "files = os.listdir(path)\n",
    "\n",
    "prefix = \"exportBubblesOf30_\"\n",
    "prefix2 = \"exportBubbles_20perc\"\n",
    "\n",
    "line1 = plotMetric(files, prefix, \"0.016.txt\", [\"metric_new_cases_sympt\", \"metric_new_cases_asympt\"],\n",
    "                   'r-', 0.15, weighting=4)\n",
    "#line2 = plotMetric(files, prefix2, \"0.016.txt\", \"metric_new_cases_sympt\", 'b-', 0.15)\n",
    "#line4 = plotMetric(files, prefix, \"0.05.txt\", \"metric_new_cases_sympt\", 'y-', 0.15)\n",
    "#line3 = plotMetric(files, prefix, \"0.1.txt\", \"metric_new_cases_sympt\", 'g-', 0.15)\n",
    "#line5 = plotMetric(files, prefix2, \"0.1.txt\", \"metric_new_cases_sympt\", 'g', 0.15)\n",
    "#line6 = plotMetric(files, prefix2, \"0.05.txt\", \"metric_new_cases_sympt\", 'y', 0.15)\n",
    "\n",
    "plt.plot(line1[\"myTime\"][1:], 4* line1['myLine'][1:], 'r', label=\"Bubbles - 5% - .016 Beta\")\n",
    "#plt.plot(line2[\"myTime\"][1:], line2['myLine'][1:], 'b', label=\"Bubbles - 20% - .016 Beta\")\n",
    "#plt.plot(line2[\"myTime\"][1:], line2['myLine'][1:], 'b', label=\"Perfect Mixing - .03 Beta\")\n",
    "#plt.plot(line4[\"myTime\"][1:], line4['myLine'][1:], 'y', label=\"Perfect Mixing - .05 Beta\")\n",
    "#plt.plot(line3[\"myTime\"][1:], line3['myLine'][1:], 'g', label=\"Perfect Mixing - .10 Beta\")\n",
    "plt.legend()\n",
    "\n",
    "#plt.savefig(path + \"comparisonOfCases.png\", dpi=300)"
   ]
  },
  {
   "cell_type": "code",
   "execution_count": 84,
   "metadata": {},
   "outputs": [
    {
     "data": {
      "image/png": "[encoded data removed]",
      "text/plain": [
       "<Figure size 432x288 with 1 Axes>"
      ]
     },
     "metadata": {},
     "output_type": "display_data"
    }
   ],
   "source": [
    "path = \"/Users/swise/workspace/worldbank/Disease-Modelling-SSA/data/verification/output/\"\n",
    "files = os.listdir(path)\n",
    "\n",
    "prefix = \"exportBubblesOf30_\"\n",
    "prefix2 = \"exportPerfect\"\n",
    "\n",
    "line1 = plotMetric(files, prefix, \"0.1.txt\", \"metric_new_cases_sympt\", 'r-', 0.15)\n",
    "line2 = plotMetric(files, prefix2, \"0.1.txt\", \"metric_new_cases_sympt\", 'b-', 0.15)\n",
    "#line4 = plotMetric(files, prefix, \"0.05.txt\", \"metric_new_cases_sympt\", 'y-', 0.15)\n",
    "#line3 = plotMetric(files, prefix, \"0.1.txt\", \"metric_new_cases_sympt\", 'g-', 0.15)\n",
    "#line5 = plotMetric(files, prefix2, \"0.1.txt\", \"metric_new_cases_sympt\", 'g', 0.15)\n",
    "#line6 = plotMetric(files, prefix2, \"0.05.txt\", \"metric_new_cases_sympt\", 'y', 0.15)\n",
    "\n",
    "plt.plot(line1[\"myTime\"][1:], line1['myLine'][1:], 'r', label=\"Bubbles - 5% - .1 Beta\")\n",
    "plt.plot(line2[\"myTime\"][1:], line2['myLine'][1:], 'b', label=\"Perfect Mixing - 5% - .1 Beta\")\n",
    "#plt.plot(line2[\"myTime\"][1:], line2['myLine'][1:], 'b', label=\"Perfect Mixing - .03 Beta\")\n",
    "#plt.plot(line4[\"myTime\"][1:], line4['myLine'][1:], 'y', label=\"Perfect Mixing - .05 Beta\")\n",
    "#plt.plot(line3[\"myTime\"][1:], line3['myLine'][1:], 'g', label=\"Perfect Mixing - .10 Beta\")\n",
    "plt.legend()\n",
    "\n",
    "plt.savefig(path + \"bubblesVersusNo_5_1.png\", dpi=300)"
   ]
  },
  {
   "cell_type": "code",
   "execution_count": 30,
   "metadata": {},
   "outputs": [
    {
     "data": {
      "text/plain": [
       "<Figure size 432x288 with 0 Axes>"
      ]
     },
     "metadata": {},
     "output_type": "display_data"
    }
   ],
   "source": [
    "#line3 = plotMetric(files, \"exportPerfect\", \"0.3.txt\", \"metric_new_cases_sympt\", 'b-', 0.15)\n",
    "#plt.plot(line3[\"myTime\"][1:], line3['myLine'][1:], 'r', label=\"Perfect Mixing - .30 Beta\")\n"
   ]
  },
  {
   "cell_type": "markdown",
   "metadata": {},
   "source": [
    "Direct comparison of spikiness in bubble version"
   ]
  },
  {
   "cell_type": "code",
   "execution_count": 94,
   "metadata": {},
   "outputs": [
    {
     "data": {
      "image/png": "[encoded data removed]",
      "text/plain": [
       "<Figure size 432x288 with 1 Axes>"
      ]
     },
     "metadata": {},
     "output_type": "display_data"
    }
   ],
   "source": [
    "path = \"/Users/swise/workspace/worldbank/Disease-Modelling-SSA/data/verification/output/\"\n",
    "files = os.listdir(path)\n",
    "\n",
    "prefix = \"exportBubblesOf30_0_\"\n",
    "prefix2 = \"testing_30bubbles_weekdayWeekendSame_\"\n",
    "\n",
    "line1 = plotMetric(files, prefix, \"0.1.txt\", \"metric_new_cases_sympt\", 'r-', 0.15)\n",
    "line2 = plotMetric(files, prefix2, \"0.1.txt\", \"metric_new_cases_sympt\", 'b-', 0.15)\n",
    "#line4 = plotMetric(files, prefix, \"0.05.txt\", \"metric_new_cases_sympt\", 'y-', 0.15)\n",
    "#line3 = plotMetric(files, prefix, \"0.1.txt\", \"metric_new_cases_sympt\", 'g-', 0.15)\n",
    "#line5 = plotMetric(files, prefix2, \"0.1.txt\", \"metric_new_cases_sympt\", 'g', 0.15)\n",
    "#line6 = plotMetric(files, prefix2, \"0.05.txt\", \"metric_new_cases_sympt\", 'y', 0.15)\n",
    "\n",
    "plt.plot(line1[\"myTime\"][1:], line1['myLine'][1:], 'r', label=\"1hr WD, 3hr WE\")\n",
    "plt.plot(line2[\"myTime\"][1:], line2['myLine'][1:], 'b', label=\"2hr both\")\n",
    "#plt.plot(line2[\"myTime\"][1:], line2['myLine'][1:], 'b', label=\"Perfect Mixing - .03 Beta\")\n",
    "#plt.plot(line4[\"myTime\"][1:], line4['myLine'][1:], 'y', label=\"Perfect Mixing - .05 Beta\")\n",
    "#plt.plot(line3[\"myTime\"][1:], line3['myLine'][1:], 'g', label=\"Perfect Mixing - .10 Beta\")\n",
    "plt.title(\"Bubbles - 5% - .1 Beta\")\n",
    "plt.legend()\n",
    "\n",
    "plt.savefig(path + \"leisureTimeComparison.png\", dpi=300)"
   ]
  },
  {
   "cell_type": "markdown",
   "metadata": {},
   "source": [
    "Calculating the r_eff"
   ]
  },
  {
   "cell_type": "code",
   "execution_count": 98,
   "metadata": {},
   "outputs": [],
   "source": [
    "path = \"/Users/swise/workspace/worldbank/Disease-Modelling-SSA/notebooks/\"\n",
    "filename = \"infections_0.016_4_180_4.txt\"\n",
    "r_data = pd.read_csv(path + filename, sep='\\t')\n"
   ]
  },
  {
   "cell_type": "code",
   "execution_count": 174,
   "metadata": {
    "scrolled": true
   },
   "outputs": [
    {
     "name": "stderr",
     "output_type": "stream",
     "text": [
      "<ipython-input-174-214b27df3a83>:2: SettingWithCopyWarning: \n",
      "A value is trying to be set on a copy of a slice from a DataFrame.\n",
      "Try using .loc[row_indexer,col_indexer] = value instead\n",
      "\n",
      "See the caveats in the documentation: https://pandas.pydata.org/pandas-docs/stable/user_guide/indexing.html#returning-a-view-versus-a-copy\n",
      "  infections[\"HostNew\"] = infections[\"Host\"].astype(float).astype(str)\n",
      "<ipython-input-174-214b27df3a83>:3: SettingWithCopyWarning: \n",
      "A value is trying to be set on a copy of a slice from a DataFrame.\n",
      "Try using .loc[row_indexer,col_indexer] = value instead\n",
      "\n",
      "See the caveats in the documentation: https://pandas.pydata.org/pandas-docs/stable/user_guide/indexing.html#returning-a-view-versus-a-copy\n",
      "  infections[\"SourceNew\"] = infections[\"Source\"].astype(str)\n"
     ]
    },
    {
     "data": {
      "text/html": [
       "<div>\n",
       "<style scoped>\n",
       "    .dataframe tbody tr th:only-of-type {\n",
       "        vertical-align: middle;\n",
       "    }\n",
       "\n",
       "    .dataframe tbody tr th {\n",
       "        vertical-align: top;\n",
       "    }\n",
       "\n",
       "    .dataframe thead th {\n",
       "        text-align: right;\n",
       "    }\n",
       "</style>\n",
       "<table border=\"1\" class=\"dataframe\">\n",
       "  <thead>\n",
       "    <tr style=\"text-align: right;\">\n",
       "      <th></th>\n",
       "      <th>Host</th>\n",
       "      <th>Source</th>\n",
       "      <th>Time</th>\n",
       "      <th>LocOfTransmission</th>\n",
       "      <th>ContagiousAt</th>\n",
       "      <th>SymptomaticAt</th>\n",
       "      <th>SevereAt</th>\n",
       "      <th>CriticalAt</th>\n",
       "      <th>RecoveredAt</th>\n",
       "      <th>DiedAt</th>\n",
       "      <th>HostNew</th>\n",
       "      <th>SourceNew</th>\n",
       "    </tr>\n",
       "  </thead>\n",
       "  <tbody>\n",
       "    <tr>\n",
       "      <th>0</th>\n",
       "      <td>2416360</td>\n",
       "      <td>NaN</td>\n",
       "      <td>-1.000000</td>\n",
       "      <td>d_1</td>\n",
       "      <td>0.0</td>\n",
       "      <td>1.7976931348623157E308</td>\n",
       "      <td>1.7976931348623157E308</td>\n",
       "      <td>1.7976931348623157E308</td>\n",
       "      <td>51.0</td>\n",
       "      <td>1.7976931348623157E308</td>\n",
       "      <td>2416360.0</td>\n",
       "      <td>nan</td>\n",
       "    </tr>\n",
       "    <tr>\n",
       "      <th>1</th>\n",
       "      <td>231512</td>\n",
       "      <td>NaN</td>\n",
       "      <td>-1.000000</td>\n",
       "      <td>d_1</td>\n",
       "      <td>0.0</td>\n",
       "      <td>7.896895013747449</td>\n",
       "      <td>1.7976931348623157E308</td>\n",
       "      <td>1.7976931348623157E308</td>\n",
       "      <td>58.0</td>\n",
       "      <td>1.7976931348623157E308</td>\n",
       "      <td>231512.0</td>\n",
       "      <td>nan</td>\n",
       "    </tr>\n",
       "    <tr>\n",
       "      <th>2</th>\n",
       "      <td>2626685</td>\n",
       "      <td>NaN</td>\n",
       "      <td>-1.000000</td>\n",
       "      <td>d_1</td>\n",
       "      <td>0.0</td>\n",
       "      <td>1.7976931348623157E308</td>\n",
       "      <td>1.7976931348623157E308</td>\n",
       "      <td>1.7976931348623157E308</td>\n",
       "      <td>53.0</td>\n",
       "      <td>1.7976931348623157E308</td>\n",
       "      <td>2626685.0</td>\n",
       "      <td>nan</td>\n",
       "    </tr>\n",
       "    <tr>\n",
       "      <th>3</th>\n",
       "      <td>724750</td>\n",
       "      <td>NaN</td>\n",
       "      <td>-1.000000</td>\n",
       "      <td>d_1</td>\n",
       "      <td>0.0</td>\n",
       "      <td>9.213338578922917</td>\n",
       "      <td>1.7976931348623157E308</td>\n",
       "      <td>1.7976931348623157E308</td>\n",
       "      <td>64.0</td>\n",
       "      <td>1.7976931348623157E308</td>\n",
       "      <td>724750.0</td>\n",
       "      <td>nan</td>\n",
       "    </tr>\n",
       "    <tr>\n",
       "      <th>4</th>\n",
       "      <td>896121</td>\n",
       "      <td>NaN</td>\n",
       "      <td>-1.000000</td>\n",
       "      <td>d_1</td>\n",
       "      <td>0.0</td>\n",
       "      <td>8.155141288761428</td>\n",
       "      <td>1.7976931348623157E308</td>\n",
       "      <td>1.7976931348623157E308</td>\n",
       "      <td>61.0</td>\n",
       "      <td>1.7976931348623157E308</td>\n",
       "      <td>896121.0</td>\n",
       "      <td>nan</td>\n",
       "    </tr>\n",
       "    <tr>\n",
       "      <th>...</th>\n",
       "      <td>...</td>\n",
       "      <td>...</td>\n",
       "      <td>...</td>\n",
       "      <td>...</td>\n",
       "      <td>...</td>\n",
       "      <td>...</td>\n",
       "      <td>...</td>\n",
       "      <td>...</td>\n",
       "      <td>...</td>\n",
       "      <td>...</td>\n",
       "      <td>...</td>\n",
       "      <td>...</td>\n",
       "    </tr>\n",
       "    <tr>\n",
       "      <th>279667</th>\n",
       "      <td>2160117</td>\n",
       "      <td>2522447.0</td>\n",
       "      <td>1079.984532</td>\n",
       "      <td>d_1</td>\n",
       "      <td>1108.5382554511327</td>\n",
       "      <td>1.7976931348623157E308</td>\n",
       "      <td>1.7976931348623157E308</td>\n",
       "      <td>1.7976931348623157E308</td>\n",
       "      <td>1.7976931348623157E308</td>\n",
       "      <td>1.7976931348623157E308</td>\n",
       "      <td>2160117.0</td>\n",
       "      <td>2522447.0</td>\n",
       "    </tr>\n",
       "    <tr>\n",
       "      <th>279668</th>\n",
       "      <td>115827</td>\n",
       "      <td>2703595.0</td>\n",
       "      <td>1079.984627</td>\n",
       "      <td>d_1</td>\n",
       "      <td>1107.4207479470317</td>\n",
       "      <td>1.7976931348623157E308</td>\n",
       "      <td>1.7976931348623157E308</td>\n",
       "      <td>1.7976931348623157E308</td>\n",
       "      <td>1.7976931348623157E308</td>\n",
       "      <td>1.7976931348623157E308</td>\n",
       "      <td>115827.0</td>\n",
       "      <td>2703595.0</td>\n",
       "    </tr>\n",
       "    <tr>\n",
       "      <th>279670</th>\n",
       "      <td>1547863</td>\n",
       "      <td>2212301.0</td>\n",
       "      <td>1079.986925</td>\n",
       "      <td>d_1</td>\n",
       "      <td>1108.4368165252258</td>\n",
       "      <td>1.7976931348623157E308</td>\n",
       "      <td>1.7976931348623157E308</td>\n",
       "      <td>1.7976931348623157E308</td>\n",
       "      <td>1.7976931348623157E308</td>\n",
       "      <td>1.7976931348623157E308</td>\n",
       "      <td>1547863.0</td>\n",
       "      <td>2212301.0</td>\n",
       "    </tr>\n",
       "    <tr>\n",
       "      <th>279671</th>\n",
       "      <td>2513477</td>\n",
       "      <td>1153986.0</td>\n",
       "      <td>1079.996850</td>\n",
       "      <td>d_1</td>\n",
       "      <td>1107.5966231013047</td>\n",
       "      <td>1.7976931348623157E308</td>\n",
       "      <td>1.7976931348623157E308</td>\n",
       "      <td>1.7976931348623157E308</td>\n",
       "      <td>1.7976931348623157E308</td>\n",
       "      <td>1.7976931348623157E308</td>\n",
       "      <td>2513477.0</td>\n",
       "      <td>1153986.0</td>\n",
       "    </tr>\n",
       "    <tr>\n",
       "      <th>279672</th>\n",
       "      <td>878983</td>\n",
       "      <td>2947080.0</td>\n",
       "      <td>1079.998527</td>\n",
       "      <td>d_1</td>\n",
       "      <td>1108.2074691629882</td>\n",
       "      <td>1.7976931348623157E308</td>\n",
       "      <td>1.7976931348623157E308</td>\n",
       "      <td>1.7976931348623157E308</td>\n",
       "      <td>1.7976931348623157E308</td>\n",
       "      <td>1.7976931348623157E308</td>\n",
       "      <td>878983.0</td>\n",
       "      <td>2947080.0</td>\n",
       "    </tr>\n",
       "  </tbody>\n",
       "</table>\n",
       "<p>213928 rows × 12 columns</p>\n",
       "</div>"
      ],
      "text/plain": [
       "           Host     Source         Time LocOfTransmission        ContagiousAt  \\\n",
       "0       2416360        NaN    -1.000000               d_1                 0.0   \n",
       "1        231512        NaN    -1.000000               d_1                 0.0   \n",
       "2       2626685        NaN    -1.000000               d_1                 0.0   \n",
       "3        724750        NaN    -1.000000               d_1                 0.0   \n",
       "4        896121        NaN    -1.000000               d_1                 0.0   \n",
       "...         ...        ...          ...               ...                 ...   \n",
       "279667  2160117  2522447.0  1079.984532               d_1  1108.5382554511327   \n",
       "279668   115827  2703595.0  1079.984627               d_1  1107.4207479470317   \n",
       "279670  1547863  2212301.0  1079.986925               d_1  1108.4368165252258   \n",
       "279671  2513477  1153986.0  1079.996850               d_1  1107.5966231013047   \n",
       "279672   878983  2947080.0  1079.998527               d_1  1108.2074691629882   \n",
       "\n",
       "                 SymptomaticAt                SevereAt  \\\n",
       "0       1.7976931348623157E308  1.7976931348623157E308   \n",
       "1            7.896895013747449  1.7976931348623157E308   \n",
       "2       1.7976931348623157E308  1.7976931348623157E308   \n",
       "3            9.213338578922917  1.7976931348623157E308   \n",
       "4            8.155141288761428  1.7976931348623157E308   \n",
       "...                        ...                     ...   \n",
       "279667  1.7976931348623157E308  1.7976931348623157E308   \n",
       "279668  1.7976931348623157E308  1.7976931348623157E308   \n",
       "279670  1.7976931348623157E308  1.7976931348623157E308   \n",
       "279671  1.7976931348623157E308  1.7976931348623157E308   \n",
       "279672  1.7976931348623157E308  1.7976931348623157E308   \n",
       "\n",
       "                    CriticalAt             RecoveredAt  \\\n",
       "0       1.7976931348623157E308                    51.0   \n",
       "1       1.7976931348623157E308                    58.0   \n",
       "2       1.7976931348623157E308                    53.0   \n",
       "3       1.7976931348623157E308                    64.0   \n",
       "4       1.7976931348623157E308                    61.0   \n",
       "...                        ...                     ...   \n",
       "279667  1.7976931348623157E308  1.7976931348623157E308   \n",
       "279668  1.7976931348623157E308  1.7976931348623157E308   \n",
       "279670  1.7976931348623157E308  1.7976931348623157E308   \n",
       "279671  1.7976931348623157E308  1.7976931348623157E308   \n",
       "279672  1.7976931348623157E308  1.7976931348623157E308   \n",
       "\n",
       "                        DiedAt    HostNew  SourceNew  \n",
       "0       1.7976931348623157E308  2416360.0        nan  \n",
       "1       1.7976931348623157E308   231512.0        nan  \n",
       "2       1.7976931348623157E308  2626685.0        nan  \n",
       "3       1.7976931348623157E308   724750.0        nan  \n",
       "4       1.7976931348623157E308   896121.0        nan  \n",
       "...                        ...        ...        ...  \n",
       "279667  1.7976931348623157E308  2160117.0  2522447.0  \n",
       "279668  1.7976931348623157E308   115827.0  2703595.0  \n",
       "279670  1.7976931348623157E308  1547863.0  2212301.0  \n",
       "279671  1.7976931348623157E308  2513477.0  1153986.0  \n",
       "279672  1.7976931348623157E308   878983.0  2947080.0  \n",
       "\n",
       "[213928 rows x 12 columns]"
      ]
     },
     "execution_count": 174,
     "metadata": {},
     "output_type": "execute_result"
    }
   ],
   "source": [
    "infections = r_data[r_data[\"ContagiousAt\"] != '1.7976931348623157E308']\n",
    "infections[\"HostNew\"] = infections[\"Host\"].astype(float).astype(str)\n",
    "infections[\"SourceNew\"] = infections[\"Source\"].astype(str)\n",
    "infections\n"
   ]
  },
  {
   "cell_type": "code",
   "execution_count": 177,
   "metadata": {},
   "outputs": [],
   "source": [
    "allSources = infections[\"SourceNew\"]"
   ]
  },
  {
   "cell_type": "code",
   "execution_count": 181,
   "metadata": {},
   "outputs": [
    {
     "ename": "ValueError",
     "evalue": "The truth value of a Series is ambiguous. Use a.empty, a.bool(), a.item(), a.any() or a.all().",
     "output_type": "error",
     "traceback": [
      "\u001b[0;31m---------------------------------------------------------------------------\u001b[0m",
      "\u001b[0;31mValueError\u001b[0m                                Traceback (most recent call last)",
      "\u001b[0;32m<ipython-input-181-41fc25bf7c93>\u001b[0m in \u001b[0;36m<module>\u001b[0;34m\u001b[0m\n\u001b[0;32m----> 1\u001b[0;31m \u001b[0minfections\u001b[0m\u001b[0;34m[\u001b[0m\u001b[0;34m\"finishedAt\"\u001b[0m\u001b[0;34m]\u001b[0m \u001b[0;34m=\u001b[0m \u001b[0mmin\u001b[0m\u001b[0;34m(\u001b[0m\u001b[0minfections\u001b[0m\u001b[0;34m[\u001b[0m\u001b[0;34m\"DiedAt\"\u001b[0m\u001b[0;34m]\u001b[0m\u001b[0;34m,\u001b[0m \u001b[0minfections\u001b[0m\u001b[0;34m[\u001b[0m\u001b[0;34m\"RecoveredAt\"\u001b[0m\u001b[0;34m]\u001b[0m\u001b[0;34m)\u001b[0m\u001b[0;34m\u001b[0m\u001b[0;34m\u001b[0m\u001b[0m\n\u001b[0m",
      "\u001b[0;32m~/opt/anaconda3/lib/python3.8/site-packages/pandas/core/generic.py\u001b[0m in \u001b[0;36m__nonzero__\u001b[0;34m(self)\u001b[0m\n\u001b[1;32m   1476\u001b[0m \u001b[0;34m\u001b[0m\u001b[0m\n\u001b[1;32m   1477\u001b[0m     \u001b[0;32mdef\u001b[0m \u001b[0m__nonzero__\u001b[0m\u001b[0;34m(\u001b[0m\u001b[0mself\u001b[0m\u001b[0;34m)\u001b[0m\u001b[0;34m:\u001b[0m\u001b[0;34m\u001b[0m\u001b[0;34m\u001b[0m\u001b[0m\n\u001b[0;32m-> 1478\u001b[0;31m         raise ValueError(\n\u001b[0m\u001b[1;32m   1479\u001b[0m             \u001b[0;34mf\"The truth value of a {type(self).__name__} is ambiguous. \"\u001b[0m\u001b[0;34m\u001b[0m\u001b[0;34m\u001b[0m\u001b[0m\n\u001b[1;32m   1480\u001b[0m             \u001b[0;34m\"Use a.empty, a.bool(), a.item(), a.any() or a.all().\"\u001b[0m\u001b[0;34m\u001b[0m\u001b[0;34m\u001b[0m\u001b[0m\n",
      "\u001b[0;31mValueError\u001b[0m: The truth value of a Series is ambiguous. Use a.empty, a.bool(), a.item(), a.any() or a.all()."
     ]
    }
   ],
   "source": [
    "infections[\"finishedAt\"] = min(infections[\"DiedAt\"], infections[\"RecoveredAt\"])"
   ]
  },
  {
   "cell_type": "code",
   "execution_count": 179,
   "metadata": {},
   "outputs": [
    {
     "data": {
      "text/plain": [
       "nan          80\n",
       "1534488.0    41\n",
       "334943.0     41\n",
       "1253740.0    40\n",
       "1616937.0    39\n",
       "             ..\n",
       "1161568.0     1\n",
       "2594659.0     1\n",
       "1335321.0     1\n",
       "2119023.0     1\n",
       "913977.0      1\n",
       "Name: SourceNew, Length: 112210, dtype: int64"
      ]
     },
     "execution_count": 179,
     "metadata": {},
     "output_type": "execute_result"
    }
   ],
   "source": [
    "allSources.value_counts()"
   ]
  },
  {
   "cell_type": "code",
   "execution_count": 212,
   "metadata": {},
   "outputs": [
    {
     "data": {
      "text/plain": [
       "'params_5perc_bubbles_30'"
      ]
     },
     "execution_count": 212,
     "metadata": {},
     "output_type": "execute_result"
    }
   ],
   "source": [
    "x = \"../data/verification/params_5perc_bubbles_30.txt\"\n",
    "\n",
    "x.split(\".\")[-2].split(\"/\")[-1]"
   ]
  },
  {
   "cell_type": "code",
   "execution_count": null,
   "metadata": {},
   "outputs": [],
   "source": []
  },
  {
   "cell_type": "markdown",
   "metadata": {},
   "source": [
    "## Comparison of population sizes"
   ]
  },
  {
   "cell_type": "code",
   "execution_count": null,
   "metadata": {},
   "outputs": [],
   "source": []
  },
  {
   "cell_type": "markdown",
   "metadata": {},
   "source": [
    "#### Deaths over time"
   ]
  },
  {
   "cell_type": "code",
   "execution_count": null,
   "metadata": {},
   "outputs": [],
   "source": []
  },
  {
   "cell_type": "markdown",
   "metadata": {},
   "source": [
    "#### Measuring R"
   ]
  },
  {
   "cell_type": "markdown",
   "metadata": {},
   "source": [
    "## Introducing one constraint at a time"
   ]
  },
  {
   "cell_type": "markdown",
   "metadata": {},
   "source": [
    "### Social Bubbles"
   ]
  },
  {
   "cell_type": "markdown",
   "metadata": {},
   "source": [
    "### Status"
   ]
  },
  {
   "cell_type": "markdown",
   "metadata": {},
   "source": [
    "### Spatial Partitioning\n",
    "\n",
    "(districts exist)"
   ]
  },
  {
   "cell_type": "markdown",
   "metadata": {},
   "source": [
    "## Combining these constraints\n",
    "\n",
    "* Social bubbles + status\n",
    "* Social bubbles + space\n",
    "* Status + space\n",
    "* All three"
   ]
  },
  {
   "cell_type": "markdown",
   "metadata": {},
   "source": [
    "## Mobility"
   ]
  },
  {
   "cell_type": "markdown",
   "metadata": {},
   "source": [
    "### Weekday/weekend"
   ]
  },
  {
   "cell_type": "markdown",
   "metadata": {},
   "source": [
    "### Interdisctrict"
   ]
  },
  {
   "cell_type": "markdown",
   "metadata": {},
   "source": [
    "## Future work: interventions\n",
    "\n",
    "* lockdowns\n",
    "* someday, hygiene\n",
    "* someday, school closures"
   ]
  },
  {
   "cell_type": "code",
   "execution_count": null,
   "metadata": {},
   "outputs": [],
   "source": []
  },
  {
   "cell_type": "code",
   "execution_count": null,
   "metadata": {},
   "outputs": [],
   "source": []
  },
  {
   "cell_type": "markdown",
   "metadata": {},
   "source": [
    "## Template\n",
    "\n",
    "such description wow"
   ]
  },
  {
   "cell_type": "markdown",
   "metadata": {},
   "source": [
    "#### Cases over time\n"
   ]
  },
  {
   "cell_type": "markdown",
   "metadata": {},
   "source": [
    "#### Deaths over time"
   ]
  },
  {
   "cell_type": "markdown",
   "metadata": {},
   "source": [
    "#### Measuring R"
   ]
  },
  {
   "cell_type": "markdown",
   "metadata": {},
   "source": [
    "#### Constraint-specific?"
   ]
  }
 ],
 "metadata": {
  "kernelspec": {
   "display_name": "Python 3",
   "language": "python",
   "name": "python3"
  },
  "language_info": {
   "codemirror_mode": {
    "name": "ipython",
    "version": 3
   },
   "file_extension": ".py",
   "mimetype": "text/x-python",
   "name": "python",
   "nbconvert_exporter": "python",
   "pygments_lexer": "ipython3",
   "version": "3.8.5"
  }
 },
 "nbformat": 4,
 "nbformat_minor": 4
}
