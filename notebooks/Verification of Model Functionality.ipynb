{
 "cells": [
  {
   "cell_type": "markdown",
   "metadata": {},
   "source": [
    "# Significant aspects of model construction\n",
    "\n",
    "* econ status\n",
    "* bubbles\n",
    "* spatiality\n",
    "* mobility\n",
    "\n",
    "Metrics upon which to assess these:\n",
    "* cases over time\n",
    "* deaths over time\n",
    "* effective R at different points\n",
    "* constraint-specific measures (e.g. cases over time per district in models with districts)"
   ]
  },
  {
   "cell_type": "code",
   "execution_count": 24,
   "metadata": {},
   "outputs": [],
   "source": [
    "import pandas as pd\n",
    "import numpy as np\n",
    "from datetime import datetime, timedelta\n",
    "import matplotlib as mpl\n",
    "import matplotlib.pyplot as plt\n",
    "import os\n",
    "import pylab as plt\n",
    "from os.path import isfile, join\n",
    "from glob import glob\n",
    "import subprocess\n",
    "import re\n",
    "\n",
    "\n",
    "import seaborn as sns\n",
    "sns.set(style=\"darkgrid\")"
   ]
  },
  {
   "cell_type": "code",
   "execution_count": null,
   "metadata": {},
   "outputs": [],
   "source": [
    "def processModelOutput(filename):\n",
    "    r_data = pd.read_csv(filename, sep='\\t')\n",
    "    r_data['districtId'] = [int(str(x).split('_')[1]) for x in r_data[\"myId\"]]\n",
    "    return {'results': r_data}\n",
    "\n",
    "def findROFInstance():\n",
    "    # total number of individuals infected by the introduction of an infectious person\n",
    "    return beta * n\n",
    "\n",
    "def WorldBankMASONmodel(seed, paramfile, beta):\n",
    "    \n",
    "    dataDir = \"/home/wb488473/Disease-Modelling-SSA/data/\"\n",
    "    numDays = 30 * 6\n",
    "    exportFilename = \"exportMe\" + seed + \"_\" + beta + \".txt\"\n",
    "    subprocess.call(['java', '-Xms20G', '-jar', '../java/WorldBankCovid19/libs/WB_covid19ABM.jar', str(numDays), dataDir, str(beta), seed, exportFilename])\n",
    "    # Sophie upped the -Xms to 20G from 6GB\n",
    "    return processModelOutput(exportFilename)"
   ]
  },
  {
   "cell_type": "code",
   "execution_count": null,
   "metadata": {},
   "outputs": [],
   "source": []
  },
  {
   "cell_type": "markdown",
   "metadata": {},
   "source": [
    "## Undifferentiated base case\n",
    "\n",
    "Individuals are created without distinct statuses and their social bubbles are set to be the size of the entire community. There is a single district in which each agent is initialised and movement between districts (being meaningless) is zeroed out. Thus, status, social bubbles, and space are all excluded from this scenario.\n",
    "\n",
    "The data directory associated with this case is in its own section, under the directory **data/verification/** and the specific set of parameters is as given in the file **data/verification/params_basecase.txt**. In particular:\n",
    "\n",
    "* the census file has all economic statuses set to the value \"Default\" and all locations for home and work set to an imaginary \"District 1\"\n",
    "* the daily transitions files are both set to 100% chance of moving from District 1 to District 1.\n",
    "* mobility rates do not decrease after a lockdown...\n",
    "* the lockdown file is empty of scheduled lockdowns, however, for belt-and-bracers insurance!\n",
    "\n",
    "The infection parameters are the defaults as seen in the config/covasim_infect_transitions.txt\n",
    "\n",
    "The data to vary are therefore the following:\n",
    "* **numWeeklyInteractionsByStatus.txt**: a record of how many interactions agents with the \"Default\" status should have per week\n",
    "* **lineList_10.txt**: the infections to seed in the single district.\n",
    "\n",
    "An exploration of these is given below."
   ]
  },
  {
   "cell_type": "markdown",
   "metadata": {},
   "source": [
    "* initialise with 20 cases for both bubbles and perfect mixing\n",
    "* comparison: .03 and .3 betas\n",
    "* population sizes: 10% versus this 5%"
   ]
  },
  {
   "cell_type": "code",
   "execution_count": 22,
   "metadata": {},
   "outputs": [],
   "source": [
    "# run the simulation with the given param file\n",
    "\n",
    "def WorldBankMASONmodel(seed, paramFile, beta):\n",
    "    \n",
    "    dataDir = \"/Users/swise/workspace/worldbank/Disease-Modelling-SSA/data/verification/\"\n",
    "    numDays = 30 * 6\n",
    "    exportFilename = dataDir + \"output/exportPerfectMixing_\" + str(seed) + \"_\" + str(beta) + \".txt\"\n",
    "    subprocess.call(['java', '-Xms6G', '-jar', '../java/WorldBankCovid19/libs/WB_covid19ABM.jar', str(numDays), dataDir, str(beta), str(seed), exportFilename, paramFile])\n",
    "    print(\"written to...\" + exportFilename)"
   ]
  },
  {
   "cell_type": "code",
   "execution_count": null,
   "metadata": {},
   "outputs": [],
   "source": [
    "paramFilename = \"/Users/swise/workspace/worldbank/Disease-Modelling-SSA/data/verification/params_basecase.txt\"\n",
    "\n",
    "for j in [.1]:\n",
    "    for i in range(10):\n",
    "        WorldBankMASONmodel(i, paramFilename, j)"
   ]
  },
  {
   "cell_type": "markdown",
   "metadata": {},
   "source": [
    "#### Cases over time\n"
   ]
  },
  {
   "cell_type": "code",
   "execution_count": 38,
   "metadata": {
    "scrolled": true
   },
   "outputs": [],
   "source": [
    "def plotMetric(files, prefix, suffix, metric, symbol, alpha):\n",
    "    myAvgLine = []\n",
    "    index = 0\n",
    "    template = \"^\" + prefix + \".*\" + suffix + \"$\"\n",
    "\n",
    "    for f in files:\n",
    "\n",
    "        if(re.search(template, f) != None): # f.startswith(prefix) and \n",
    "            r_data = pd.read_csv(path + f, sep='\\t')\n",
    "            totcases = r_data[metric]\n",
    "            if len(myAvgLine) == 0:\n",
    "                myAvgLine = totcases\n",
    "            else:\n",
    "                myAvgLine += totcases\n",
    "            \n",
    "            # plot it\n",
    "            plt.plot(r_data[\"time\"][1:], totcases[1:], symbol, alpha=alpha)\n",
    "            index += 1\n",
    "    return {\"myLine\": myAvgLine/index, \"myTime\": r_data[\"time\"]}"
   ]
  },
  {
   "cell_type": "code",
   "execution_count": null,
   "metadata": {},
   "outputs": [],
   "source": [
    "path = \"/Users/swise/workspace/worldbank/Disease-Modelling-SSA/data/verification/output/\"\n",
    "files = os.listdir(path)\n",
    "\n",
    "line1 = plotMetric(files, \"exportMe\", \"0.03_.txt\", \"metric_new_cases_sympt\", 'r-', 0.15)\n",
    "line2 = plotMetric(files, \"exportPerfect\", \"0.03_.txt\", \"metric_new_cases_sympt\", 'b-', 0.15)\n",
    "line3 = plotMetric(files, \"exportPerfect\", \"0.03_.txt\", \"metric_new_cases_sympt\", 'g-', 0.15)\n",
    "\n",
    "plt.plot(line1[\"myTime\"][1:], line1['myLine'][1:], 'r', label=\"Bubbles - .03 Beta\")\n",
    "plt.plot(line2[\"myTime\"][1:], line2['myLine'][1:], 'b', label=\"Perfect Mixing - .03 Beta\")\n",
    "plt.legend()\n",
    "\n",
    "plt.savefig(path + \"comparisonOfCases.png\", dpi=300)"
   ]
  },
  {
   "cell_type": "code",
   "execution_count": 30,
   "metadata": {},
   "outputs": [
    {
     "data": {
      "text/plain": [
       "<Figure size 432x288 with 0 Axes>"
      ]
     },
     "metadata": {},
     "output_type": "display_data"
    }
   ],
   "source": [
    "#line3 = plotMetric(files, \"exportPerfect\", \"0.3.txt\", \"metric_new_cases_sympt\", 'b-', 0.15)\n",
    "#plt.plot(line3[\"myTime\"][1:], line3['myLine'][1:], 'r', label=\"Perfect Mixing - .30 Beta\")\n"
   ]
  },
  {
   "cell_type": "code",
   "execution_count": null,
   "metadata": {},
   "outputs": [],
   "source": []
  },
  {
   "cell_type": "markdown",
   "metadata": {},
   "source": [
    "#### Deaths over time"
   ]
  },
  {
   "cell_type": "code",
   "execution_count": null,
   "metadata": {},
   "outputs": [],
   "source": []
  },
  {
   "cell_type": "markdown",
   "metadata": {},
   "source": [
    "#### Measuring R"
   ]
  },
  {
   "cell_type": "markdown",
   "metadata": {},
   "source": [
    "## Introducing one constraint at a time"
   ]
  },
  {
   "cell_type": "markdown",
   "metadata": {},
   "source": [
    "### Social Bubbles"
   ]
  },
  {
   "cell_type": "markdown",
   "metadata": {},
   "source": [
    "### Status"
   ]
  },
  {
   "cell_type": "markdown",
   "metadata": {},
   "source": [
    "### Spatial Partitioning\n",
    "\n",
    "(districts exist)"
   ]
  },
  {
   "cell_type": "markdown",
   "metadata": {},
   "source": [
    "## Combining these constraints\n",
    "\n",
    "* Social bubbles + status\n",
    "* Social bubbles + space\n",
    "* Status + space\n",
    "* All three"
   ]
  },
  {
   "cell_type": "markdown",
   "metadata": {},
   "source": [
    "## Mobility"
   ]
  },
  {
   "cell_type": "markdown",
   "metadata": {},
   "source": [
    "### Weekday/weekend"
   ]
  },
  {
   "cell_type": "markdown",
   "metadata": {},
   "source": [
    "### Interdisctrict"
   ]
  },
  {
   "cell_type": "markdown",
   "metadata": {},
   "source": [
    "## Future work: interventions\n",
    "\n",
    "* lockdowns\n",
    "* someday, hygiene\n",
    "* someday, school closures"
   ]
  },
  {
   "cell_type": "code",
   "execution_count": null,
   "metadata": {},
   "outputs": [],
   "source": []
  },
  {
   "cell_type": "code",
   "execution_count": null,
   "metadata": {},
   "outputs": [],
   "source": []
  },
  {
   "cell_type": "markdown",
   "metadata": {},
   "source": [
    "## Template\n",
    "\n",
    "such description wow"
   ]
  },
  {
   "cell_type": "markdown",
   "metadata": {},
   "source": [
    "#### Cases over time\n"
   ]
  },
  {
   "cell_type": "markdown",
   "metadata": {},
   "source": [
    "#### Deaths over time"
   ]
  },
  {
   "cell_type": "markdown",
   "metadata": {},
   "source": [
    "#### Measuring R"
   ]
  },
  {
   "cell_type": "markdown",
   "metadata": {},
   "source": [
    "#### Constraint-specific?"
   ]
  }
 ],
 "metadata": {
  "kernelspec": {
   "display_name": "Python 3",
   "language": "python",
   "name": "python3"
  },
  "language_info": {
   "codemirror_mode": {
    "name": "ipython",
    "version": 3
   },
   "file_extension": ".py",
   "mimetype": "text/x-python",
   "name": "python",
   "nbconvert_exporter": "python",
   "pygments_lexer": "ipython3",
   "version": "3.8.3"
  }
 },
 "nbformat": 4,
 "nbformat_minor": 4
}
